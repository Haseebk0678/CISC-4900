{
 "cells": [
  {
   "cell_type": "markdown",
   "metadata": {},
   "source": [
    "# Dependencies"
   ]
  },
  {
   "cell_type": "code",
   "execution_count": 1,
   "metadata": {},
   "outputs": [],
   "source": [
    "# !pip install -r requirements.txt"
   ]
  },
  {
   "cell_type": "code",
   "execution_count": 2,
   "metadata": {},
   "outputs": [],
   "source": [
    "# !pip freeze > requirements.txt"
   ]
  },
  {
   "cell_type": "code",
   "execution_count": 3,
   "metadata": {},
   "outputs": [
    {
     "name": "stdout",
     "output_type": "stream",
     "text": [
      "absl-py==1.4.0\r\n",
      "anyio==3.6.2\r\n",
      "appnope==0.1.3\r\n",
      "argon2-cffi==21.3.0\r\n",
      "argon2-cffi-bindings==21.2.0\r\n",
      "arrow==1.2.3\r\n",
      "asttokens==2.2.1\r\n",
      "astunparse==1.6.3\r\n",
      "attrs==22.2.0\r\n",
      "backcall==0.2.0\r\n",
      "beautifulsoup4==4.11.2\r\n",
      "bleach==6.0.0\r\n",
      "cachetools==5.3.0\r\n",
      "certifi==2022.12.7\r\n",
      "cffi==1.15.1\r\n",
      "charset-normalizer==3.1.0\r\n",
      "click==8.1.3\r\n",
      "comm==0.1.2\r\n",
      "contourpy==1.0.7\r\n",
      "cycler==0.11.0\r\n",
      "debugpy==1.6.6\r\n",
      "decorator==5.1.1\r\n",
      "defusedxml==0.7.1\r\n",
      "executing==1.2.0\r\n",
      "fastjsonschema==2.16.3\r\n",
      "Flask==2.2.3\r\n",
      "flatbuffers==1.12\r\n",
      "fonttools==4.39.0\r\n",
      "fqdn==1.5.1\r\n",
      "gast==0.4.0\r\n",
      "google-auth==2.16.2\r\n",
      "google-auth-oauthlib==0.4.6\r\n",
      "google-pasta==0.2.0\r\n",
      "grpcio==1.51.3\r\n",
      "h5py==3.8.0\r\n",
      "idna==3.4\r\n",
      "importlib-metadata==6.0.0\r\n",
      "importlib-resources==5.12.0\r\n",
      "ipykernel==6.21.3\r\n",
      "ipython==8.10.0\r\n",
      "ipython-genutils==0.2.0\r\n",
      "ipywidgets==8.0.4\r\n",
      "isoduration==20.11.0\r\n",
      "itsdangerous==2.1.2\r\n",
      "jedi==0.18.2\r\n",
      "Jinja2==3.1.2\r\n",
      "joblib==1.2.0\r\n",
      "jsonpointer==2.3\r\n",
      "jsonschema==4.17.3\r\n",
      "jupyter==1.0.0\r\n",
      "jupyter-console==6.6.3\r\n",
      "jupyter-events==0.6.3\r\n",
      "jupyter_client==8.0.3\r\n",
      "jupyter_core==5.2.0\r\n",
      "jupyter_server==2.4.0\r\n",
      "jupyter_server_terminals==0.4.4\r\n",
      "jupyterlab-pygments==0.2.2\r\n",
      "jupyterlab-widgets==3.0.5\r\n",
      "keras==2.9.0\r\n",
      "Keras-Preprocessing==1.1.2\r\n",
      "kiwisolver==1.4.4\r\n",
      "libclang==15.0.6.1\r\n",
      "Markdown==3.4.1\r\n",
      "MarkupSafe==2.1.2\r\n",
      "matplotlib==3.7.0\r\n",
      "matplotlib-inline==0.1.6\r\n",
      "mistune==2.0.5\r\n",
      "nbclassic==0.5.3\r\n",
      "nbclient==0.7.2\r\n",
      "nbconvert==7.2.10\r\n",
      "nbformat==5.7.3\r\n",
      "nest-asyncio==1.5.6\r\n",
      "notebook==6.5.3\r\n",
      "notebook_shim==0.2.2\r\n",
      "numpy==1.24.2\r\n",
      "oauthlib==3.2.2\r\n",
      "opencv-python==4.7.0.72\r\n",
      "opt-einsum==3.3.0\r\n",
      "packaging==23.0\r\n",
      "pandas==1.5.3\r\n",
      "pandocfilters==1.5.0\r\n",
      "parso==0.8.3\r\n",
      "pexpect==4.8.0\r\n",
      "pickleshare==0.7.5\r\n",
      "Pillow==9.4.0\r\n",
      "pkgutil_resolve_name==1.3.10\r\n",
      "platformdirs==3.1.1\r\n",
      "prometheus-client==0.16.0\r\n",
      "prompt-toolkit==3.0.38\r\n",
      "protobuf==3.19.6\r\n",
      "psutil==5.9.4\r\n",
      "ptyprocess==0.7.0\r\n",
      "pure-eval==0.2.2\r\n",
      "pyasn1==0.4.8\r\n",
      "pyasn1-modules==0.2.8\r\n",
      "pycparser==2.21\r\n",
      "Pygments==2.14.0\r\n",
      "pyparsing==3.0.9\r\n",
      "pyrsistent==0.19.3\r\n",
      "python-dateutil==2.8.2\r\n",
      "python-json-logger==2.0.7\r\n",
      "pytz==2022.7.1\r\n",
      "PyYAML==6.0\r\n",
      "pyzmq==25.0.1\r\n",
      "qtconsole==5.4.1\r\n",
      "QtPy==2.3.0\r\n",
      "requests==2.28.2\r\n",
      "requests-oauthlib==1.3.1\r\n",
      "rfc3339-validator==0.1.4\r\n",
      "rfc3986-validator==0.1.1\r\n",
      "rsa==4.9\r\n",
      "scikit-learn==1.2.2\r\n",
      "scipy==1.10.1\r\n",
      "Send2Trash==1.8.0\r\n",
      "six==1.16.0\r\n",
      "sniffio==1.3.0\r\n",
      "soupsieve==2.4\r\n",
      "stack-data==0.6.2\r\n",
      "tensorboard==2.9.1\r\n",
      "tensorboard-data-server==0.6.1\r\n",
      "tensorboard-plugin-wit==1.8.1\r\n",
      "tensorflow==2.9.1\r\n",
      "tensorflow-estimator==2.9.0\r\n",
      "tensorflow-io-gcs-filesystem==0.31.0\r\n",
      "termcolor==2.2.0\r\n",
      "terminado==0.17.1\r\n",
      "threadpoolctl==3.1.0\r\n",
      "tinycss2==1.2.1\r\n",
      "tornado==6.2\r\n",
      "traitlets==5.9.0\r\n",
      "typing_extensions==4.5.0\r\n",
      "uri-template==1.2.0\r\n",
      "urllib3==1.26.15\r\n",
      "wcwidth==0.2.6\r\n",
      "webcolors==1.12\r\n",
      "webencodings==0.5.1\r\n",
      "websocket-client==1.5.1\r\n",
      "Werkzeug==2.2.3\r\n",
      "widgetsnbextension==4.0.5\r\n",
      "wrapt==1.15.0\r\n",
      "zipp==3.15.0\r\n"
     ]
    }
   ],
   "source": [
    "!pip freeze"
   ]
  },
  {
   "cell_type": "markdown",
   "metadata": {},
   "source": [
    "# PreProcessing"
   ]
  },
  {
   "cell_type": "markdown",
   "metadata": {},
   "source": [
    "## Dependencies"
   ]
  },
  {
   "cell_type": "code",
   "execution_count": 2,
   "metadata": {},
   "outputs": [],
   "source": [
    "import matplotlib as mlp\n",
    "import matplotlib.pyplot as plt\n",
    "import pandas as pd\n",
    "import numpy as np\n",
    "import os\n",
    "\n",
    "import keras\n",
    "from keras.models import Sequential\n",
    "from keras.layers import Dense, Dropout, Flatten, Conv2D, MaxPooling2D\n",
    "\n",
    "from tensorflow.keras.preprocessing.image import ImageDataGenerator, load_img\n",
    "from tensorflow.keras import layers, losses\n",
    "from tensorflow.keras.models import Model\n",
    "\n",
    "import tensorflow as tf\n",
    "\n",
    "from sklearn.metrics import accuracy_score, precision_score, recall_score\n",
    "from sklearn.model_selection import train_test_split\n",
    "from sklearn.model_selection import cross_val_score\n"
   ]
  },
  {
   "cell_type": "markdown",
   "metadata": {},
   "source": [
    "## Convert data into numpy array"
   ]
  },
  {
   "cell_type": "code",
   "execution_count": 5,
   "metadata": {},
   "outputs": [],
   "source": [
    "# import pathlib\n",
    "\n",
    "\n",
    "test_mask = [] \n",
    "test_no_mask = []\n",
    "# I would do this in a fancy os.loop way but I was using google colab and didn't really want to mess with the function too much\n",
    "train_data_mask_dir=\"New_Masks_Dataset/Train/Mask\"\n",
    "train_data_no_mask_dir=\"New_Masks_Dataset/Train/Non_Mask\"\n",
    "val_data_mask_dir = 'New_Masks_Dataset/Validation/Mask'\n",
    "val_data_no_mask_dir = 'New_Masks_Dataset/Validation/Non_Mask'\n",
    "test_data_mask_dir=\"New_Masks_Dataset/Test/Mask\"\n",
    "test_data_no_mask_dir=\"New_Masks_Dataset/Test/Non_Mask\"\n"
   ]
  },
  {
   "cell_type": "code",
   "execution_count": 6,
   "metadata": {},
   "outputs": [],
   "source": [
    "# print(train_imagePaths_mask)"
   ]
  },
  {
   "cell_type": "code",
   "execution_count": 7,
   "metadata": {},
   "outputs": [],
   "source": [
    "# https://stackoverflow.com/questions/30230592/loading-all-images-using-imread-from-a-given-folder\n",
    "# https://www.tutorialkart.com/opencv/python/opencv-python-resize-image/\n",
    "import cv2\n",
    "# from google.colab.patches import cv2_imshow\n",
    "import os\n",
    "\n",
    "IMAGE_HEIGHT  = 100\n",
    "IMAGE_WIDTH = 100\n",
    "NUM_CLASSES = 2\n",
    "\n",
    "\n",
    "input_shape = (IMAGE_WIDTH, IMAGE_HEIGHT)\n",
    "\n",
    "\n",
    "def load_images_from_folder(folder):\n",
    "    images = []\n",
    "    for filename in os.listdir(folder):\n",
    "        img = cv2.imread(os.path.join(folder,filename))\n",
    "        # cv2_imshow(img)\n",
    "        # Has to be like this because of Python Ambiguity\n",
    "        if img is not None:\n",
    "            grayscale = cv2.cvtColor(img, cv2.COLOR_BGR2GRAY)\n",
    "            resized = cv2.resize(grayscale, input_shape)\n",
    "            resized = np.reshape(resized, input_shape[0] * input_shape[1])\n",
    "            images.append(resized)\n",
    "    return images\n"
   ]
  },
  {
   "cell_type": "code",
   "execution_count": 8,
   "metadata": {},
   "outputs": [],
   "source": [
    "# Train\n",
    "train_mask = load_images_from_folder(train_data_mask_dir)\n",
    "train_no_mask = load_images_from_folder(train_data_no_mask_dir)\n",
    "# Val\n",
    "val_mask = load_images_from_folder(val_data_mask_dir)\n",
    "val_no_mask = load_images_from_folder(val_data_no_mask_dir)\n",
    "# Test\n",
    "test_mask = load_images_from_folder(test_data_mask_dir)\n",
    "test_no_mask = (load_images_from_folder(test_data_no_mask_dir))"
   ]
  },
  {
   "cell_type": "code",
   "execution_count": 9,
   "metadata": {},
   "outputs": [],
   "source": [
    "train_mask += val_mask\n",
    "train_no_mask += val_no_mask"
   ]
  },
  {
   "cell_type": "code",
   "execution_count": 10,
   "metadata": {},
   "outputs": [],
   "source": [
    "y_train_mask = [1] * len(train_mask)\n",
    "y_train_no_mask = [0] * len(train_no_mask)\n",
    "\n",
    "y_val_mask = [1] * len(val_mask)\n",
    "y_val_no_mask = [0] * len(val_no_mask)\n",
    "\n",
    "y_test_mask = [1] * len(test_mask)\n",
    "y_test_no_mask = [0] * len(test_no_mask)\n"
   ]
  },
  {
   "cell_type": "code",
   "execution_count": 11,
   "metadata": {},
   "outputs": [],
   "source": [
    "df_train = pd.DataFrame({'label': y_train_mask,'mask_data': train_mask})"
   ]
  },
  {
   "cell_type": "code",
   "execution_count": 12,
   "metadata": {},
   "outputs": [
    {
     "name": "stderr",
     "output_type": "stream",
     "text": [
      "/var/folders/21/4ybwj4pj54x1sz2qhfgy1b9m0000gn/T/ipykernel_35484/1233198709.py:1: FutureWarning: The frame.append method is deprecated and will be removed from pandas in a future version. Use pandas.concat instead.\n",
      "  df_train = df_train.append(pd.DataFrame({'label': y_train_no_mask, 'mask_data': train_no_mask}), ignore_index=True)\n"
     ]
    }
   ],
   "source": [
    "df_train = df_train.append(pd.DataFrame({'label': y_train_no_mask, 'mask_data': train_no_mask}), ignore_index=True)"
   ]
  },
  {
   "cell_type": "code",
   "execution_count": 13,
   "metadata": {},
   "outputs": [
    {
     "data": {
      "text/html": [
       "<div>\n",
       "<style scoped>\n",
       "    .dataframe tbody tr th:only-of-type {\n",
       "        vertical-align: middle;\n",
       "    }\n",
       "\n",
       "    .dataframe tbody tr th {\n",
       "        vertical-align: top;\n",
       "    }\n",
       "\n",
       "    .dataframe thead th {\n",
       "        text-align: right;\n",
       "    }\n",
       "</style>\n",
       "<table border=\"1\" class=\"dataframe\">\n",
       "  <thead>\n",
       "    <tr style=\"text-align: right;\">\n",
       "      <th></th>\n",
       "      <th>label</th>\n",
       "      <th>mask_data</th>\n",
       "    </tr>\n",
       "  </thead>\n",
       "  <tbody>\n",
       "    <tr>\n",
       "      <th>206</th>\n",
       "      <td>1</td>\n",
       "      <td>[184, 186, 183, 187, 185, 182, 181, 175, 175, ...</td>\n",
       "    </tr>\n",
       "    <tr>\n",
       "      <th>489</th>\n",
       "      <td>0</td>\n",
       "      <td>[174, 171, 157, 127, 115, 116, 135, 136, 139, ...</td>\n",
       "    </tr>\n",
       "    <tr>\n",
       "      <th>492</th>\n",
       "      <td>0</td>\n",
       "      <td>[157, 159, 131, 138, 130, 178, 211, 220, 229, ...</td>\n",
       "    </tr>\n",
       "    <tr>\n",
       "      <th>30</th>\n",
       "      <td>1</td>\n",
       "      <td>[176, 168, 195, 152, 151, 146, 146, 132, 119, ...</td>\n",
       "    </tr>\n",
       "    <tr>\n",
       "      <th>254</th>\n",
       "      <td>1</td>\n",
       "      <td>[42, 120, 238, 233, 226, 219, 214, 212, 205, 2...</td>\n",
       "    </tr>\n",
       "    <tr>\n",
       "      <th>...</th>\n",
       "      <td>...</td>\n",
       "      <td>...</td>\n",
       "    </tr>\n",
       "    <tr>\n",
       "      <th>106</th>\n",
       "      <td>1</td>\n",
       "      <td>[42, 42, 43, 43, 45, 44, 43, 43, 44, 44, 44, 4...</td>\n",
       "    </tr>\n",
       "    <tr>\n",
       "      <th>499</th>\n",
       "      <td>0</td>\n",
       "      <td>[255, 255, 255, 255, 255, 255, 255, 255, 255, ...</td>\n",
       "    </tr>\n",
       "    <tr>\n",
       "      <th>287</th>\n",
       "      <td>1</td>\n",
       "      <td>[94, 195, 97, 100, 101, 104, 105, 109, 105, 84...</td>\n",
       "    </tr>\n",
       "    <tr>\n",
       "      <th>752</th>\n",
       "      <td>0</td>\n",
       "      <td>[178, 200, 206, 209, 207, 215, 208, 197, 180, ...</td>\n",
       "    </tr>\n",
       "    <tr>\n",
       "      <th>827</th>\n",
       "      <td>0</td>\n",
       "      <td>[70, 75, 74, 72, 73, 78, 76, 75, 76, 73, 75, 7...</td>\n",
       "    </tr>\n",
       "  </tbody>\n",
       "</table>\n",
       "<p>901 rows × 2 columns</p>\n",
       "</div>"
      ],
      "text/plain": [
       "     label                                          mask_data\n",
       "206      1  [184, 186, 183, 187, 185, 182, 181, 175, 175, ...\n",
       "489      0  [174, 171, 157, 127, 115, 116, 135, 136, 139, ...\n",
       "492      0  [157, 159, 131, 138, 130, 178, 211, 220, 229, ...\n",
       "30       1  [176, 168, 195, 152, 151, 146, 146, 132, 119, ...\n",
       "254      1  [42, 120, 238, 233, 226, 219, 214, 212, 205, 2...\n",
       "..     ...                                                ...\n",
       "106      1  [42, 42, 43, 43, 45, 44, 43, 43, 44, 44, 44, 4...\n",
       "499      0  [255, 255, 255, 255, 255, 255, 255, 255, 255, ...\n",
       "287      1  [94, 195, 97, 100, 101, 104, 105, 109, 105, 84...\n",
       "752      0  [178, 200, 206, 209, 207, 215, 208, 197, 180, ...\n",
       "827      0  [70, 75, 74, 72, 73, 78, 76, 75, 76, 73, 75, 7...\n",
       "\n",
       "[901 rows x 2 columns]"
      ]
     },
     "execution_count": 13,
     "metadata": {},
     "output_type": "execute_result"
    }
   ],
   "source": [
    "df_train = df_train.sample(frac = 1)\n",
    "df_train"
   ]
  },
  {
   "cell_type": "code",
   "execution_count": 14,
   "metadata": {},
   "outputs": [],
   "source": [
    "X_train = df_train.iloc[:, 1:] / 255.0\n",
    "X_train = pd.DataFrame(X_train['mask_data'].tolist())\n",
    "y_train = df_train.iloc[:, :1]\n",
    "\n",
    "# .astype('float32')"
   ]
  },
  {
   "cell_type": "code",
   "execution_count": 15,
   "metadata": {},
   "outputs": [
    {
     "name": "stderr",
     "output_type": "stream",
     "text": [
      "/var/folders/21/4ybwj4pj54x1sz2qhfgy1b9m0000gn/T/ipykernel_35484/3146285510.py:2: FutureWarning: The frame.append method is deprecated and will be removed from pandas in a future version. Use pandas.concat instead.\n",
      "  df_val = df_val.append(pd.DataFrame({'label': y_val_no_mask, 'mask_data': val_no_mask}), ignore_index=True)\n"
     ]
    },
    {
     "data": {
      "text/html": [
       "<div>\n",
       "<style scoped>\n",
       "    .dataframe tbody tr th:only-of-type {\n",
       "        vertical-align: middle;\n",
       "    }\n",
       "\n",
       "    .dataframe tbody tr th {\n",
       "        vertical-align: top;\n",
       "    }\n",
       "\n",
       "    .dataframe thead th {\n",
       "        text-align: right;\n",
       "    }\n",
       "</style>\n",
       "<table border=\"1\" class=\"dataframe\">\n",
       "  <thead>\n",
       "    <tr style=\"text-align: right;\">\n",
       "      <th></th>\n",
       "      <th>label</th>\n",
       "      <th>mask_data</th>\n",
       "    </tr>\n",
       "  </thead>\n",
       "  <tbody>\n",
       "    <tr>\n",
       "      <th>28</th>\n",
       "      <td>1</td>\n",
       "      <td>[65, 52, 56, 59, 58, 58, 59, 59, 59, 59, 51, 4...</td>\n",
       "    </tr>\n",
       "    <tr>\n",
       "      <th>285</th>\n",
       "      <td>0</td>\n",
       "      <td>[165, 183, 196, 205, 183, 201, 253, 253, 255, ...</td>\n",
       "    </tr>\n",
       "    <tr>\n",
       "      <th>42</th>\n",
       "      <td>1</td>\n",
       "      <td>[71, 71, 71, 71, 71, 71, 72, 72, 71, 71, 72, 7...</td>\n",
       "    </tr>\n",
       "    <tr>\n",
       "      <th>253</th>\n",
       "      <td>0</td>\n",
       "      <td>[42, 41, 39, 31, 29, 32, 24, 36, 26, 20, 28, 2...</td>\n",
       "    </tr>\n",
       "    <tr>\n",
       "      <th>149</th>\n",
       "      <td>0</td>\n",
       "      <td>[29, 28, 27, 28, 30, 29, 28, 28, 28, 27, 25, 2...</td>\n",
       "    </tr>\n",
       "    <tr>\n",
       "      <th>...</th>\n",
       "      <td>...</td>\n",
       "      <td>...</td>\n",
       "    </tr>\n",
       "    <tr>\n",
       "      <th>212</th>\n",
       "      <td>0</td>\n",
       "      <td>[225, 223, 221, 222, 223, 224, 223, 223, 224, ...</td>\n",
       "    </tr>\n",
       "    <tr>\n",
       "      <th>134</th>\n",
       "      <td>1</td>\n",
       "      <td>[195, 196, 184, 191, 185, 180, 136, 173, 199, ...</td>\n",
       "    </tr>\n",
       "    <tr>\n",
       "      <th>126</th>\n",
       "      <td>1</td>\n",
       "      <td>[17, 16, 19, 15, 16, 19, 21, 18, 24, 25, 28, 3...</td>\n",
       "    </tr>\n",
       "    <tr>\n",
       "      <th>201</th>\n",
       "      <td>0</td>\n",
       "      <td>[157, 129, 142, 156, 167, 176, 173, 146, 129, ...</td>\n",
       "    </tr>\n",
       "    <tr>\n",
       "      <th>145</th>\n",
       "      <td>1</td>\n",
       "      <td>[207, 207, 206, 208, 208, 208, 208, 208, 208, ...</td>\n",
       "    </tr>\n",
       "  </tbody>\n",
       "</table>\n",
       "<p>302 rows × 2 columns</p>\n",
       "</div>"
      ],
      "text/plain": [
       "     label                                          mask_data\n",
       "28       1  [65, 52, 56, 59, 58, 58, 59, 59, 59, 59, 51, 4...\n",
       "285      0  [165, 183, 196, 205, 183, 201, 253, 253, 255, ...\n",
       "42       1  [71, 71, 71, 71, 71, 71, 72, 72, 71, 71, 72, 7...\n",
       "253      0  [42, 41, 39, 31, 29, 32, 24, 36, 26, 20, 28, 2...\n",
       "149      0  [29, 28, 27, 28, 30, 29, 28, 28, 28, 27, 25, 2...\n",
       "..     ...                                                ...\n",
       "212      0  [225, 223, 221, 222, 223, 224, 223, 223, 224, ...\n",
       "134      1  [195, 196, 184, 191, 185, 180, 136, 173, 199, ...\n",
       "126      1  [17, 16, 19, 15, 16, 19, 21, 18, 24, 25, 28, 3...\n",
       "201      0  [157, 129, 142, 156, 167, 176, 173, 146, 129, ...\n",
       "145      1  [207, 207, 206, 208, 208, 208, 208, 208, 208, ...\n",
       "\n",
       "[302 rows x 2 columns]"
      ]
     },
     "execution_count": 15,
     "metadata": {},
     "output_type": "execute_result"
    }
   ],
   "source": [
    "df_val = pd.DataFrame({'label': y_val_mask,'mask_data': val_mask})\n",
    "df_val = df_val.append(pd.DataFrame({'label': y_val_no_mask, 'mask_data': val_no_mask}), ignore_index=True)\n",
    "\n",
    "df_val = df_val.sample(frac = 1)\n",
    "df_val"
   ]
  },
  {
   "cell_type": "code",
   "execution_count": 16,
   "metadata": {},
   "outputs": [],
   "source": [
    "X_val = df_val.iloc[:, 1:] / 255.0\n",
    "X_val = pd.DataFrame(X_val['mask_data'].tolist())\n",
    "y_val = df_val.iloc[:,:1]\n"
   ]
  },
  {
   "cell_type": "code",
   "execution_count": 17,
   "metadata": {},
   "outputs": [
    {
     "name": "stderr",
     "output_type": "stream",
     "text": [
      "/var/folders/21/4ybwj4pj54x1sz2qhfgy1b9m0000gn/T/ipykernel_35484/4284791088.py:2: FutureWarning: The frame.append method is deprecated and will be removed from pandas in a future version. Use pandas.concat instead.\n",
      "  df_test = df_test.append(pd.DataFrame({'label': y_test_no_mask, 'mask_data': test_no_mask}), ignore_index=True)\n"
     ]
    },
    {
     "data": {
      "text/html": [
       "<div>\n",
       "<style scoped>\n",
       "    .dataframe tbody tr th:only-of-type {\n",
       "        vertical-align: middle;\n",
       "    }\n",
       "\n",
       "    .dataframe tbody tr th {\n",
       "        vertical-align: top;\n",
       "    }\n",
       "\n",
       "    .dataframe thead th {\n",
       "        text-align: right;\n",
       "    }\n",
       "</style>\n",
       "<table border=\"1\" class=\"dataframe\">\n",
       "  <thead>\n",
       "    <tr style=\"text-align: right;\">\n",
       "      <th></th>\n",
       "      <th>label</th>\n",
       "      <th>mask_data</th>\n",
       "    </tr>\n",
       "  </thead>\n",
       "  <tbody>\n",
       "    <tr>\n",
       "      <th>67</th>\n",
       "      <td>0</td>\n",
       "      <td>[255, 255, 255, 255, 255, 255, 255, 255, 255, ...</td>\n",
       "    </tr>\n",
       "    <tr>\n",
       "      <th>66</th>\n",
       "      <td>0</td>\n",
       "      <td>[98, 99, 99, 98, 99, 99, 99, 99, 99, 100, 100,...</td>\n",
       "    </tr>\n",
       "    <tr>\n",
       "      <th>87</th>\n",
       "      <td>0</td>\n",
       "      <td>[217, 222, 221, 220, 221, 223, 224, 225, 225, ...</td>\n",
       "    </tr>\n",
       "    <tr>\n",
       "      <th>77</th>\n",
       "      <td>0</td>\n",
       "      <td>[179, 190, 187, 180, 188, 182, 186, 181, 185, ...</td>\n",
       "    </tr>\n",
       "    <tr>\n",
       "      <th>33</th>\n",
       "      <td>1</td>\n",
       "      <td>[136, 118, 101, 115, 107, 73, 241, 241, 241, 2...</td>\n",
       "    </tr>\n",
       "    <tr>\n",
       "      <th>...</th>\n",
       "      <td>...</td>\n",
       "      <td>...</td>\n",
       "    </tr>\n",
       "    <tr>\n",
       "      <th>49</th>\n",
       "      <td>0</td>\n",
       "      <td>[125, 126, 125, 126, 126, 125, 126, 126, 126, ...</td>\n",
       "    </tr>\n",
       "    <tr>\n",
       "      <th>40</th>\n",
       "      <td>1</td>\n",
       "      <td>[139, 105, 89, 246, 230, 232, 237, 241, 242, 2...</td>\n",
       "    </tr>\n",
       "    <tr>\n",
       "      <th>29</th>\n",
       "      <td>1</td>\n",
       "      <td>[157, 127, 150, 160, 145, 145, 71, 112, 71, 54...</td>\n",
       "    </tr>\n",
       "    <tr>\n",
       "      <th>78</th>\n",
       "      <td>0</td>\n",
       "      <td>[212, 211, 213, 214, 216, 219, 221, 224, 226, ...</td>\n",
       "    </tr>\n",
       "    <tr>\n",
       "      <th>5</th>\n",
       "      <td>1</td>\n",
       "      <td>[78, 64, 66, 63, 59, 54, 76, 86, 88, 89, 92, 9...</td>\n",
       "    </tr>\n",
       "  </tbody>\n",
       "</table>\n",
       "<p>99 rows × 2 columns</p>\n",
       "</div>"
      ],
      "text/plain": [
       "    label                                          mask_data\n",
       "67      0  [255, 255, 255, 255, 255, 255, 255, 255, 255, ...\n",
       "66      0  [98, 99, 99, 98, 99, 99, 99, 99, 99, 100, 100,...\n",
       "87      0  [217, 222, 221, 220, 221, 223, 224, 225, 225, ...\n",
       "77      0  [179, 190, 187, 180, 188, 182, 186, 181, 185, ...\n",
       "33      1  [136, 118, 101, 115, 107, 73, 241, 241, 241, 2...\n",
       "..    ...                                                ...\n",
       "49      0  [125, 126, 125, 126, 126, 125, 126, 126, 126, ...\n",
       "40      1  [139, 105, 89, 246, 230, 232, 237, 241, 242, 2...\n",
       "29      1  [157, 127, 150, 160, 145, 145, 71, 112, 71, 54...\n",
       "78      0  [212, 211, 213, 214, 216, 219, 221, 224, 226, ...\n",
       "5       1  [78, 64, 66, 63, 59, 54, 76, 86, 88, 89, 92, 9...\n",
       "\n",
       "[99 rows x 2 columns]"
      ]
     },
     "execution_count": 17,
     "metadata": {},
     "output_type": "execute_result"
    }
   ],
   "source": [
    "df_test = pd.DataFrame({'label': y_test_mask,'mask_data': test_mask})\n",
    "df_test = df_test.append(pd.DataFrame({'label': y_test_no_mask, 'mask_data': test_no_mask}), ignore_index=True)\n",
    "\n",
    "df_test = df_test.sample(frac = 1)\n",
    "df_test\n"
   ]
  },
  {
   "cell_type": "code",
   "execution_count": 18,
   "metadata": {},
   "outputs": [],
   "source": [
    "X_test = df_test.iloc[:, 1:] / 255.0\n",
    "X_test = pd.DataFrame(X_test['mask_data'].tolist())\n",
    "y_test = df_test.iloc[:, :1]\n"
   ]
  },
  {
   "cell_type": "code",
   "execution_count": 19,
   "metadata": {},
   "outputs": [],
   "source": [
    "x_train = X_train.values.reshape(-1,100,100)\n",
    "x_val = X_val.values.reshape(-1,100,100)\n",
    "x_test = X_test.values.reshape(-1,100,100)"
   ]
  },
  {
   "cell_type": "code",
   "execution_count": 20,
   "metadata": {},
   "outputs": [],
   "source": [
    "batch_size = 128\n",
    "epochs = 15\n",
    "# input image dimensions\n",
    "input_shape = (100, 100, 1)\n",
    "\n",
    "y = y_train #use later for the classifiers\n",
    "y_train = keras.utils.to_categorical(y_train, NUM_CLASSES)\n",
    "y_val = keras.utils.to_categorical(y_val, NUM_CLASSES)\n",
    "y_test = keras.utils.to_categorical(y_test, NUM_CLASSES)\n",
    "\n"
   ]
  },
  {
   "cell_type": "code",
   "execution_count": 21,
   "metadata": {},
   "outputs": [
    {
     "name": "stdout",
     "output_type": "stream",
     "text": [
      "(901, 100, 100)\n",
      "(302, 100, 100)\n",
      "(99, 100, 100)\n"
     ]
    }
   ],
   "source": [
    "print(x_train.shape)\n",
    "print(x_val.shape)\n",
    "print(x_test.shape)"
   ]
  },
  {
   "cell_type": "markdown",
   "metadata": {},
   "source": [
    "# Running Model"
   ]
  },
  {
   "cell_type": "markdown",
   "metadata": {},
   "source": [
    "## KNN (K_Nearest_Neighbor Classifier)"
   ]
  },
  {
   "cell_type": "code",
   "execution_count": 22,
   "metadata": {},
   "outputs": [],
   "source": [
    "# from sklearn.neighbors import KNeighborsClassifier\n",
    "# from sklearn import metrics\n",
    "# from sklearn.model_selection import GridSearchCV\n",
    "# k_range = list(range(1, 30))\n",
    "# param_grid = {'n_neighbors': k_range, \n",
    "#               'weights': ['uniform', 'distance']}\n",
    "# knn = KNeighborsClassifier()\n",
    "# grid_search = GridSearchCV(knn, param_grid, cv=5, verbose = 1)\n",
    "# grid_search.fit(X_train, y_train)\n",
    "# y_pred = grid_search.predict(X_test)\n",
    "# metrics.f1_score(y_test, y_pred, average='weighted')\n",
    "# print(\"Best Parameters:\", grid_search.best_params_)\n",
    "# print(\"Accuracy Score:\", grid_search.best_score_)"
   ]
  },
  {
   "cell_type": "code",
   "execution_count": null,
   "metadata": {},
   "outputs": [],
   "source": []
  },
  {
   "cell_type": "code",
   "execution_count": 23,
   "metadata": {},
   "outputs": [],
   "source": [
    "# from sklearn.linear_model import SGDClassifier\n",
    "# from sklearn.metrics import accuracy_score\n",
    "\n",
    "# lin_classifier = SGDClassifier()\n",
    "# lin_classifier.fit(X_train, y)\n",
    "# y_pred = lin_classifier.predict(X_test)\n",
    "\n",
    "# accuracy_score(y_test, y_pred)\n"
   ]
  },
  {
   "cell_type": "code",
   "execution_count": 24,
   "metadata": {},
   "outputs": [],
   "source": [
    "# from sklearn.tree import DecisionTreeClassifier\n",
    "# from sklearn.linear_model import LogisticRegression\n",
    "# from sklearn.svm import SVC\n",
    "# from sklearn.metrics import accuracy_score, precision_score, recall_score, f1_score\n",
    "\n",
    "# # Train and evaluate several classifiers\n",
    "# classifiers = [\n",
    "#     LogisticRegression(),\n",
    "#     SVC(),\n",
    "# ]\n",
    "# y= y['label']\n",
    "\n",
    "# for clf in classifiers:\n",
    "#     clf.fit(X_train, y)\n",
    "#     y_pred = clf.predict(X_test)\n",
    "#     print(type(clf).__name__)\n",
    "#     print(\"Accuracy: {:.2f}\".format(accuracy_score(y_test, y_pred)))\n",
    "#     print(\"Precision: {:.2f}\".format(precision_score(y_test, y_pred, average='weighted')))\n",
    "#     print(\"Recall: {:.2f}\".format(recall_score(y_test, y_pred, average='weighted')))\n",
    "#     print(\"F1-score: {:.2f}\".format(f1_score(y_test, y_pred, average='weighted')))\n",
    "#     print()"
   ]
  },
  {
   "cell_type": "code",
   "execution_count": 4,
   "metadata": {},
   "outputs": [
    {
     "name": "stdout",
     "output_type": "stream",
     "text": [
      "Found 599 images belonging to 2 classes.\n",
      "Found 99 images belonging to 2 classes.\n"
     ]
    }
   ],
   "source": [
    "from keras.preprocessing import image\n",
    "\n",
    "train_data_mask_dir=\"New_Masks_Dataset/Train\"\n",
    "val_data_mask_dir = \"New_Masks_Dataset/Validation\"\n",
    "test_data_mask_dir=\"New_Masks_Dataset/Test\"\n",
    "\n",
    "batch_size = 32\n",
    "train_datagen = ImageDataGenerator(rescale=1./255, rotation_range=40, width_shift_range=0.2, height_shift_range=0.2, shear_range=0.2, zoom_range=0.2, horizontal_flip=True,)\n",
    "test_datagen = ImageDataGenerator(rescale=1./255)\n",
    "train_generator = train_datagen.flow_from_directory(train_data_mask_dir, target_size=(100, 100), batch_size=batch_size, class_mode='binary')\n",
    "validation_generator = test_datagen.flow_from_directory(test_data_mask_dir, target_size=(100, 100), batch_size=batch_size, class_mode='binary')\n"
   ]
  },
  {
   "cell_type": "markdown",
   "metadata": {},
   "source": [
    "## CNN (Convolutional neural network)"
   ]
  },
  {
   "cell_type": "code",
   "execution_count": 20,
   "metadata": {},
   "outputs": [
    {
     "name": "stdout",
     "output_type": "stream",
     "text": [
      "Model: \"sequential_5\"\n",
      "_________________________________________________________________\n",
      " Layer (type)                Output Shape              Param #   \n",
      "=================================================================\n",
      " conv2d_24 (Conv2D)          (None, 98, 98, 32)        896       \n",
      "                                                                 \n",
      " random_rotation_6 (RandomRo  (None, 98, 98, 32)       0         \n",
      " tation)                                                         \n",
      "                                                                 \n",
      " random_zoom_6 (RandomZoom)  (None, 98, 98, 32)        0         \n",
      "                                                                 \n",
      " random_flip_6 (RandomFlip)  (None, 98, 98, 32)        0         \n",
      "                                                                 \n",
      " conv2d_25 (Conv2D)          (None, 96, 96, 32)        9248      \n",
      "                                                                 \n",
      " conv2d_26 (Conv2D)          (None, 94, 94, 32)        9248      \n",
      "                                                                 \n",
      " max_pooling2d_12 (MaxPoolin  (None, 47, 47, 32)       0         \n",
      " g2D)                                                            \n",
      "                                                                 \n",
      " conv2d_27 (Conv2D)          (None, 45, 45, 64)        18496     \n",
      "                                                                 \n",
      " max_pooling2d_13 (MaxPoolin  (None, 22, 22, 64)       0         \n",
      " g2D)                                                            \n",
      "                                                                 \n",
      " flatten_6 (Flatten)         (None, 30976)             0         \n",
      "                                                                 \n",
      " dropout_6 (Dropout)         (None, 30976)             0         \n",
      "                                                                 \n",
      " dense_5 (Dense)             (None, 1)                 30977     \n",
      "                                                                 \n",
      "=================================================================\n",
      "Total params: 68,865\n",
      "Trainable params: 68,865\n",
      "Non-trainable params: 0\n",
      "_________________________________________________________________\n"
     ]
    }
   ],
   "source": [
    "# https://www.analyticsvidhya.com/blog/2022/09/training-a-cnn-from-scratch-using-data-augmentation/\n",
    "# layers.Conv2D(32, (3, 3), activation='relu', input_shape=(150, 150, 1))\n",
    "# https://www.tensorflow.org/api_docs/python/tf/keras/layers/RandomFlip\n",
    "\n",
    "# The parameters I chose here were also from a project I did earlier, I'll link it here\n",
    "NUM_CLASSES = 2\n",
    "input_shape = (100,100,3)\n",
    "model = keras.Sequential(\n",
    "    [\n",
    "        keras.Input(shape=input_shape),\n",
    "        layers.Conv2D(32, (3, 3), activation='relu'),\n",
    "        keras.layers.RandomRotation(0.1),\n",
    "        keras.layers.RandomZoom(-.1, .1),\n",
    "        keras.layers.RandomFlip(mode='horizontal_and_vertical'),\n",
    "        \n",
    "        layers.Conv2D(32, kernel_size=(3, 3), activation=\"relu\"),\n",
    "        layers.Conv2D(32, kernel_size=(3, 3), activation=\"relu\"),\n",
    "        layers.MaxPooling2D(pool_size=(2, 2)),\n",
    "        layers.Conv2D(64, kernel_size=(3, 3), activation=\"relu\"),\n",
    "        layers.MaxPooling2D(pool_size=(2, 2)),\n",
    "        layers.Flatten(),\n",
    "        layers.Dropout(0.5),\n",
    "        layers.Dense(1, activation=\"sigmoid\"),\n",
    "    ]\n",
    ")\n",
    "model.compile(loss=\"binary_crossentropy\", optimizer=\"adam\", metrics=[\"accuracy\"])\n",
    "\n",
    "model.summary()"
   ]
  },
  {
   "cell_type": "code",
   "execution_count": 21,
   "metadata": {},
   "outputs": [
    {
     "name": "stderr",
     "output_type": "stream",
     "text": [
      "/var/folders/21/4ybwj4pj54x1sz2qhfgy1b9m0000gn/T/ipykernel_37588/1464405780.py:1: UserWarning: `Model.fit_generator` is deprecated and will be removed in a future version. Please use `Model.fit`, which supports generators.\n",
      "  history = model.fit_generator(train_generator, steps_per_epoch=15, epochs=15, validation_data=validation_generator, validation_steps=20)\n"
     ]
    },
    {
     "name": "stdout",
     "output_type": "stream",
     "text": [
      "Epoch 1/15\n",
      "15/15 [==============================] - ETA: 0s - loss: 0.6861 - accuracy: 0.5308WARNING:tensorflow:Your input ran out of data; interrupting training. Make sure that your dataset or generator can generate at least `steps_per_epoch * epochs` batches (in this case, 20 batches). You may need to use the repeat() function when building your dataset.\n",
      "15/15 [==============================] - 36s 2s/step - loss: 0.6861 - accuracy: 0.5308 - val_loss: 0.6715 - val_accuracy: 0.5152\n",
      "Epoch 2/15\n",
      "15/15 [==============================] - 34s 2s/step - loss: 0.5451 - accuracy: 0.7240\n",
      "Epoch 3/15\n",
      "15/15 [==============================] - 55s 4s/step - loss: 0.4598 - accuracy: 0.8004\n",
      "Epoch 4/15\n",
      "15/15 [==============================] - 34s 2s/step - loss: 0.4209 - accuracy: 0.8238\n",
      "Epoch 5/15\n",
      "15/15 [==============================] - 37s 2s/step - loss: 0.4277 - accuracy: 0.8238\n",
      "Epoch 6/15\n",
      "15/15 [==============================] - 40s 3s/step - loss: 0.3883 - accuracy: 0.8208\n",
      "Epoch 7/15\n",
      "15/15 [==============================] - 38s 3s/step - loss: 0.3279 - accuracy: 0.8833\n",
      "Epoch 8/15\n",
      "15/15 [==============================] - 46s 3s/step - loss: 0.3936 - accuracy: 0.8301\n",
      "Epoch 9/15\n",
      "15/15 [==============================] - 39s 3s/step - loss: 0.3661 - accuracy: 0.8450\n",
      "Epoch 10/15\n",
      "15/15 [==============================] - 29s 2s/step - loss: 0.3444 - accuracy: 0.8747\n",
      "Epoch 11/15\n",
      "15/15 [==============================] - 29s 2s/step - loss: 0.3489 - accuracy: 0.8747\n",
      "Epoch 12/15\n",
      "15/15 [==============================] - 30s 2s/step - loss: 0.3502 - accuracy: 0.8641\n",
      "Epoch 13/15\n",
      "15/15 [==============================] - 29s 2s/step - loss: 0.3389 - accuracy: 0.8708\n",
      "Epoch 14/15\n",
      "15/15 [==============================] - 30s 2s/step - loss: 0.3745 - accuracy: 0.8450\n",
      "Epoch 15/15\n",
      "15/15 [==============================] - 31s 2s/step - loss: 0.3225 - accuracy: 0.8577\n"
     ]
    }
   ],
   "source": [
    "steps_per_epoch = len(train_generator)//batch_size\n",
    "validation_steps = len(validation_generator)//batch_size # if you have validation data \n",
    "\n",
    "history = model.fit_generator(train_generator, steps_per_epoch=steps_per_epoch, epochs=15, validation_data=validation_generator, validation_steps=validation_steps)"
   ]
  },
  {
   "cell_type": "code",
   "execution_count": 30,
   "metadata": {},
   "outputs": [
    {
     "data": {
      "image/png": "[encoded data removed]",
      "text/plain": [
       "<Figure size 640x480 with 1 Axes>"
      ]
     },
     "metadata": {},
     "output_type": "display_data"
    }
   ],
   "source": [
    "import matplotlib.pyplot as plt\n",
    "\n",
    "# Train the model and save the history of accuracy over epochs\n",
    "# Plot the accuracy history over epochs\n",
    "plt.plot(history.history['accuracy'])\n",
    "plt.plot(history.history['loss'])\n",
    "plt.title('Model Accuracy over Epochs and loss')\n",
    "plt.ylabel('Accuracy')\n",
    "plt.xlabel('Epoch')\n",
    "plt.legend(['Training Accuracy', 'Loss'], loc='upper left')\n",
    "plt.show()"
   ]
  },
  {
   "cell_type": "code",
   "execution_count": 27,
   "metadata": {},
   "outputs": [
    {
     "name": "stdout",
     "output_type": "stream",
     "text": [
      "Epoch 1/15\n",
      "29/29 [==============================] - 23s 727ms/step - loss: 0.6197 - accuracy: 0.6404 - val_loss: 0.5357 - val_accuracy: 0.7273\n",
      "Epoch 2/15\n",
      "29/29 [==============================] - 23s 780ms/step - loss: 0.4882 - accuracy: 0.7691 - val_loss: 0.4554 - val_accuracy: 0.7778\n",
      "Epoch 3/15\n",
      "29/29 [==============================] - 21s 718ms/step - loss: 0.4643 - accuracy: 0.7980 - val_loss: 0.3894 - val_accuracy: 0.7980\n",
      "Epoch 4/15\n",
      "29/29 [==============================] - 20s 687ms/step - loss: 0.4723 - accuracy: 0.7802 - val_loss: 0.3697 - val_accuracy: 0.8283\n",
      "Epoch 5/15\n",
      "29/29 [==============================] - 19s 660ms/step - loss: 0.4438 - accuracy: 0.8013 - val_loss: 0.3345 - val_accuracy: 0.8384\n",
      "Epoch 6/15\n",
      "29/29 [==============================] - 20s 691ms/step - loss: 0.4339 - accuracy: 0.8191 - val_loss: 0.3213 - val_accuracy: 0.8687\n",
      "Epoch 7/15\n",
      "29/29 [==============================] - 21s 723ms/step - loss: 0.4132 - accuracy: 0.8147 - val_loss: 0.2976 - val_accuracy: 0.8788\n",
      "Epoch 8/15\n",
      "29/29 [==============================] - 19s 659ms/step - loss: 0.4007 - accuracy: 0.8246 - val_loss: 0.3111 - val_accuracy: 0.8586\n",
      "Epoch 9/15\n",
      "29/29 [==============================] - 20s 702ms/step - loss: 0.4427 - accuracy: 0.7980 - val_loss: 0.3524 - val_accuracy: 0.8384\n",
      "Epoch 10/15\n",
      "29/29 [==============================] - 20s 696ms/step - loss: 0.4139 - accuracy: 0.8269 - val_loss: 0.2882 - val_accuracy: 0.8586\n",
      "Epoch 11/15\n",
      "29/29 [==============================] - 19s 658ms/step - loss: 0.3911 - accuracy: 0.8435 - val_loss: 0.2744 - val_accuracy: 0.8586\n",
      "Epoch 12/15\n",
      "29/29 [==============================] - 20s 687ms/step - loss: 0.4136 - accuracy: 0.8213 - val_loss: 0.2860 - val_accuracy: 0.8889\n",
      "Epoch 13/15\n",
      "29/29 [==============================] - 19s 673ms/step - loss: 0.3852 - accuracy: 0.8257 - val_loss: 0.2681 - val_accuracy: 0.8889\n",
      "Epoch 14/15\n",
      "29/29 [==============================] - 19s 667ms/step - loss: 0.3532 - accuracy: 0.8513 - val_loss: 0.2377 - val_accuracy: 0.8889\n",
      "Epoch 15/15\n",
      "29/29 [==============================] - 20s 695ms/step - loss: 0.3906 - accuracy: 0.8380 - val_loss: 0.2387 - val_accuracy: 0.8889\n"
     ]
    },
    {
     "data": {
      "text/plain": [
       "<keras.callbacks.History at 0x7fc1b0bfb670>"
      ]
     },
     "execution_count": 27,
     "metadata": {},
     "output_type": "execute_result"
    }
   ],
   "source": [
    "from tensorflow.keras.callbacks import EarlyStopping, ModelCheckpoint\n",
    "\n",
    "callbacks = [ModelCheckpoint(filepath='best_model.h5', monitor='val_loss', save_best_only=True),\n",
    "             EarlyStopping(monitor='val_loss', patience=7)]\n",
    "\n",
    "model.fit(x_train, y_train, epochs=epochs,\n",
    "                    callbacks=callbacks,\n",
    "                    validation_data=(x_test, y_test))\n"
   ]
  },
  {
   "cell_type": "code",
   "execution_count": 33,
   "metadata": {},
   "outputs": [],
   "source": [
    "model.save('best_model.h5')"
   ]
  },
  {
   "cell_type": "code",
   "execution_count": 29,
   "metadata": {},
   "outputs": [],
   "source": [
    "# model = keras.models.load_model('./best_model.h5')"
   ]
  },
  {
   "cell_type": "code",
   "execution_count": 30,
   "metadata": {},
   "outputs": [
    {
     "name": "stdout",
     "output_type": "stream",
     "text": [
      "4/4 [==============================] - 1s 109ms/step - loss: 0.2387 - accuracy: 0.8889\n"
     ]
    },
    {
     "data": {
      "text/plain": [
       "[0.23869213461875916, 0.8888888955116272]"
      ]
     },
     "execution_count": 30,
     "metadata": {},
     "output_type": "execute_result"
    }
   ],
   "source": [
    "model.evaluate(x_test, y_test)"
   ]
  },
  {
   "cell_type": "code",
   "execution_count": 31,
   "metadata": {},
   "outputs": [
    {
     "name": "stdout",
     "output_type": "stream",
     "text": [
      "Test loss: 0.23869213461875916\n",
      "Test accuracy: 0.8888888955116272\n"
     ]
    }
   ],
   "source": [
    "score = model.evaluate(x_test, y_test, verbose=0)\n",
    "print(\"Test loss:\", score[0])\n",
    "print(\"Test accuracy:\", score[1])"
   ]
  },
  {
   "cell_type": "code",
   "execution_count": 32,
   "metadata": {},
   "outputs": [
    {
     "name": "stdout",
     "output_type": "stream",
     "text": [
      "4/4 [==============================] - 1s 129ms/step\n",
      "              precision    recall  f1-score   support\n",
      "\n",
      "           0       0.91      0.86      0.89        50\n",
      "           1       0.87      0.92      0.89        49\n",
      "\n",
      "    accuracy                           0.89        99\n",
      "   macro avg       0.89      0.89      0.89        99\n",
      "weighted avg       0.89      0.89      0.89        99\n",
      "\n",
      "[[43  7]\n",
      " [ 4 45]]\n"
     ]
    }
   ],
   "source": [
    "from sklearn.metrics import classification_report, confusion_matrix\n",
    "y_pred = model.predict(x_test)\n",
    "y_pred_labels = np.argmax(y_pred, axis=1)\n",
    "y_true_labels = np.argmax(y_test, axis=1)\n",
    "\n",
    "print(classification_report(y_true_labels, y_pred_labels))\n",
    "print(confusion_matrix(y_true_labels, y_pred_labels))"
   ]
  },
  {
   "cell_type": "code",
   "execution_count": 31,
   "metadata": {},
   "outputs": [],
   "source": [
    "import numpy as np\n",
    "from tensorflow.keras.models import load_model\n",
    "import cv2\n",
    "import numpy as np\n",
    "from PIL import Image\n",
    "from keras import models\n",
    "import pandas as pd\n",
    "import os"
   ]
  },
  {
   "cell_type": "code",
   "execution_count": 32,
   "metadata": {},
   "outputs": [
    {
     "name": "stdout",
     "output_type": "stream",
     "text": [
      "opencv_frame_0.png written!\n",
      "opencv_frame_1.png written!\n",
      "Escape hit, closing...\n"
     ]
    }
   ],
   "source": [
    "import cv2\n",
    "\n",
    "cam = cv2.VideoCapture(0)\n",
    "\n",
    "cv2.namedWindow(\"test\")\n",
    "\n",
    "img_counter = 0\n",
    "\n",
    "while True:\n",
    "    ret, frame = cam.read()\n",
    "    if not ret:\n",
    "        print(\"failed to grab frame\")\n",
    "        break\n",
    "    cv2.imshow(\"test\", frame)\n",
    "\n",
    "    k = cv2.waitKey(1)\n",
    "    if k%256 == 27:\n",
    "        # ESC pressed\n",
    "        print(\"Escape hit, closing...\")\n",
    "        break\n",
    "    elif k%256 == 32:\n",
    "        # SPACE pressed\n",
    "        img_name = \"opencv_frame_{}.png\".format(img_counter)\n",
    "        cv2.imwrite(img_name, frame)\n",
    "        print(\"{} written!\".format(img_name))\n",
    "        img_counter += 1\n",
    "\n",
    "cam.release()\n",
    "\n",
    "cv2.destroyAllWindows()"
   ]
  },
  {
   "cell_type": "code",
   "execution_count": 35,
   "metadata": {},
   "outputs": [
    {
     "ename": "error",
     "evalue": "OpenCV(4.7.0) :-1: error: (-5:Bad argument) in function 'cvtColor'\n> Overload resolution failed:\n>  - cvtColor() missing required argument 'code' (pos 2)\n>  - cvtColor() missing required argument 'code' (pos 2)\n",
     "output_type": "error",
     "traceback": [
      "\u001b[0;31m---------------------------------------------------------------------------\u001b[0m",
      "\u001b[0;31merror\u001b[0m                                     Traceback (most recent call last)",
      "Cell \u001b[0;32mIn[35], line 39\u001b[0m\n\u001b[1;32m     33\u001b[0m image \u001b[38;5;241m=\u001b[39m \u001b[38;5;124m'\u001b[39m\u001b[38;5;124mopencv_frame_0.png\u001b[39m\u001b[38;5;124m'\u001b[39m\n\u001b[1;32m     34\u001b[0m \u001b[38;5;66;03m# image = 'opencv_frame_1.png'\u001b[39;00m\n\u001b[1;32m     35\u001b[0m \n\u001b[1;32m     36\u001b[0m \u001b[38;5;66;03m# image = \"New_Masks_Dataset/Test/Non_Mask/real_01073.jpg\"\u001b[39;00m\n\u001b[1;32m     37\u001b[0m \u001b[38;5;66;03m# folder = 'New_Masks_Dataset/Test/Non_Mask'\u001b[39;00m\n\u001b[1;32m     38\u001b[0m \u001b[38;5;66;03m# for image in os.listdir(folder):\u001b[39;00m\n\u001b[0;32m---> 39\u001b[0m prediction \u001b[38;5;241m=\u001b[39m \u001b[43mpredict_mask\u001b[49m\u001b[43m(\u001b[49m\u001b[43mimage\u001b[49m\u001b[43m)\u001b[49m\n\u001b[1;32m     40\u001b[0m \u001b[38;5;28mprint\u001b[39m(prediction)\n",
      "Cell \u001b[0;32mIn[35], line 6\u001b[0m, in \u001b[0;36mpredict_mask\u001b[0;34m(image)\u001b[0m\n\u001b[1;32m      3\u001b[0m \u001b[38;5;28;01mdef\u001b[39;00m \u001b[38;5;21mpredict_mask\u001b[39m(image):\n\u001b[1;32m      5\u001b[0m     frame \u001b[38;5;241m=\u001b[39m cv2\u001b[38;5;241m.\u001b[39mimread(image)\n\u001b[0;32m----> 6\u001b[0m     image \u001b[38;5;241m=\u001b[39m \u001b[43mcv2\u001b[49m\u001b[38;5;241;43m.\u001b[39;49m\u001b[43mcvtColor\u001b[49m\u001b[43m(\u001b[49m\u001b[43mframe\u001b[49m\u001b[43m)\u001b[49m\n\u001b[1;32m      7\u001b[0m     image \u001b[38;5;241m=\u001b[39m cv2\u001b[38;5;241m.\u001b[39mresize(image, input_shape)\n\u001b[1;32m      9\u001b[0m     \u001b[38;5;66;03m# Convert the image to a numpy array\u001b[39;00m\n",
      "\u001b[0;31merror\u001b[0m: OpenCV(4.7.0) :-1: error: (-5:Bad argument) in function 'cvtColor'\n> Overload resolution failed:\n>  - cvtColor() missing required argument 'code' (pos 2)\n>  - cvtColor() missing required argument 'code' (pos 2)\n"
     ]
    }
   ],
   "source": [
    "\n",
    "\n",
    "# Load the saved model\n",
    "# Define a function to make predictions\n",
    "def predict_mask(image):\n",
    "\n",
    "    frame = cv2.imread(image)\n",
    "    image = cv2.cvtColor(frame)\n",
    "    image = cv2.resize(image, input_shape)\n",
    "\n",
    "    # Convert the image to a numpy array\n",
    "    image_array = np.array(image)\n",
    "    \n",
    "    # Resize the image to the correct dimensions (if necessary)\n",
    "    image_array = np.resize(image_array, (1, 100, 100, 3))\n",
    "    \n",
    "    # Normalize the image data\n",
    "    image_array = image_array / 255.0\n",
    "    print(image_array.shape)\n",
    "    \n",
    "    # Make a prediction with the model\n",
    "    prediction = model.predict(image_array)\n",
    "    print(prediction)\n",
    "    \n",
    "    # Return the prediction\n",
    "    return prediction[0][0] > 0.5  # Returns True if wearing mask, False if not\n",
    "\n",
    "# Example usage\n",
    "# image = 'New_Masks_Dataset/Test/Mask/2085.jpg'\n",
    "# image = 'New_Masks_Dataset/Test/Non_Mask/real_01032.jpg'\n",
    "# image = 'New_Masks_Dataset/Test/Mask/2114.jpeg'\n",
    "# image = 'New_Masks_Dataset/Test/Non_Mask/real_01042.jpg'\n",
    "# image = 'mask.png'\n",
    "# image = 'no_mask.png'\n",
    "image = 'opencv_frame_0.png'\n",
    "# image = 'opencv_frame_1.png'\n",
    "\n",
    "# image = \"New_Masks_Dataset/Test/Non_Mask/real_01073.jpg\"\n",
    "# folder = 'New_Masks_Dataset/Test/Non_Mask'\n",
    "# for image in os.listdir(folder):\n",
    "prediction = predict_mask(image)\n",
    "print(prediction)"
   ]
  },
  {
   "cell_type": "code",
   "execution_count": null,
   "metadata": {},
   "outputs": [],
   "source": []
  }
 ],
 "metadata": {
  "kernelspec": {
   "display_name": "Python 3 (ipykernel)",
   "language": "python",
   "name": "python3"
  },
  "language_info": {
   "codemirror_mode": {
    "name": "ipython",
    "version": 3
   },
   "file_extension": ".py",
   "mimetype": "text/x-python",
   "name": "python",
   "nbconvert_exporter": "python",
   "pygments_lexer": "ipython3",
   "version": "3.8.0"
  },
  "vscode": {
   "interpreter": {
    "hash": "c13209e22e8d7786781c444ec5dd3ab2bdb4894b22799155f2d9a5b3d32d4296"
   }
  }
 },
 "nbformat": 4,
 "nbformat_minor": 2
}
