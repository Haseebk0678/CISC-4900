{
 "cells": [
  {
   "cell_type": "markdown",
   "metadata": {},
   "source": [
    "# Dependencies"
   ]
  },
  {
   "cell_type": "code",
   "execution_count": 3,
   "metadata": {},
   "outputs": [],
   "source": [
    "# !pip install -r requirements.txt"
   ]
  },
  {
   "cell_type": "code",
   "execution_count": 4,
   "metadata": {},
   "outputs": [],
   "source": [
    "# !pip freeze > requirements.txt"
   ]
  },
  {
   "cell_type": "code",
   "execution_count": 5,
   "metadata": {},
   "outputs": [
    {
     "name": "stdout",
     "output_type": "stream",
     "text": [
      "absl-py==1.4.0\r\n",
      "anyio==3.6.2\r\n",
      "appnope==0.1.3\r\n",
      "argon2-cffi==21.3.0\r\n",
      "argon2-cffi-bindings==21.2.0\r\n",
      "arrow==1.2.3\r\n",
      "asttokens==2.2.1\r\n",
      "astunparse==1.6.3\r\n",
      "attrs==22.2.0\r\n",
      "backcall==0.2.0\r\n",
      "beautifulsoup4==4.11.2\r\n",
      "bleach==6.0.0\r\n",
      "cachetools==5.3.0\r\n",
      "certifi==2022.12.7\r\n",
      "cffi==1.15.1\r\n",
      "charset-normalizer==3.1.0\r\n",
      "click==8.1.3\r\n",
      "comm==0.1.2\r\n",
      "contourpy==1.0.7\r\n",
      "cycler==0.11.0\r\n",
      "debugpy==1.6.6\r\n",
      "decorator==5.1.1\r\n",
      "defusedxml==0.7.1\r\n",
      "executing==1.2.0\r\n",
      "fastjsonschema==2.16.3\r\n",
      "Flask==2.2.3\r\n",
      "flatbuffers==1.12\r\n",
      "fonttools==4.39.0\r\n",
      "fqdn==1.5.1\r\n",
      "gast==0.4.0\r\n",
      "google-auth==2.16.2\r\n",
      "google-auth-oauthlib==0.4.6\r\n",
      "google-pasta==0.2.0\r\n",
      "grpcio==1.51.3\r\n",
      "h5py==3.8.0\r\n",
      "idna==3.4\r\n",
      "importlib-metadata==6.0.0\r\n",
      "importlib-resources==5.12.0\r\n",
      "ipykernel==6.21.3\r\n",
      "ipython==8.10.0\r\n",
      "ipython-genutils==0.2.0\r\n",
      "ipywidgets==8.0.4\r\n",
      "isoduration==20.11.0\r\n",
      "itsdangerous==2.1.2\r\n",
      "jedi==0.18.2\r\n",
      "Jinja2==3.1.2\r\n",
      "joblib==1.2.0\r\n",
      "jsonpointer==2.3\r\n",
      "jsonschema==4.17.3\r\n",
      "jupyter==1.0.0\r\n",
      "jupyter-console==6.6.3\r\n",
      "jupyter-events==0.6.3\r\n",
      "jupyter_client==8.0.3\r\n",
      "jupyter_core==5.2.0\r\n",
      "jupyter_server==2.4.0\r\n",
      "jupyter_server_terminals==0.4.4\r\n",
      "jupyterlab-pygments==0.2.2\r\n",
      "jupyterlab-widgets==3.0.5\r\n",
      "keras==2.9.0\r\n",
      "Keras-Preprocessing==1.1.2\r\n",
      "kiwisolver==1.4.4\r\n",
      "libclang==15.0.6.1\r\n",
      "Markdown==3.4.1\r\n",
      "MarkupSafe==2.1.2\r\n",
      "matplotlib==3.7.0\r\n",
      "matplotlib-inline==0.1.6\r\n",
      "mistune==2.0.5\r\n",
      "nbclassic==0.5.3\r\n",
      "nbclient==0.7.2\r\n",
      "nbconvert==7.2.10\r\n",
      "nbformat==5.7.3\r\n",
      "nest-asyncio==1.5.6\r\n",
      "notebook==6.5.3\r\n",
      "notebook_shim==0.2.2\r\n",
      "numpy==1.24.2\r\n",
      "oauthlib==3.2.2\r\n",
      "opencv-python==4.7.0.72\r\n",
      "opt-einsum==3.3.0\r\n",
      "packaging==23.0\r\n",
      "pandas==1.5.3\r\n",
      "pandocfilters==1.5.0\r\n",
      "parso==0.8.3\r\n",
      "pexpect==4.8.0\r\n",
      "pickleshare==0.7.5\r\n",
      "Pillow==9.4.0\r\n",
      "pkgutil_resolve_name==1.3.10\r\n",
      "platformdirs==3.1.1\r\n",
      "prometheus-client==0.16.0\r\n",
      "prompt-toolkit==3.0.38\r\n",
      "protobuf==3.19.6\r\n",
      "psutil==5.9.4\r\n",
      "ptyprocess==0.7.0\r\n",
      "pure-eval==0.2.2\r\n",
      "pyasn1==0.4.8\r\n",
      "pyasn1-modules==0.2.8\r\n",
      "pycparser==2.21\r\n",
      "Pygments==2.14.0\r\n",
      "pyparsing==3.0.9\r\n",
      "pyrsistent==0.19.3\r\n",
      "python-dateutil==2.8.2\r\n",
      "python-json-logger==2.0.7\r\n",
      "pytz==2022.7.1\r\n",
      "PyYAML==6.0\r\n",
      "pyzmq==25.0.1\r\n",
      "qtconsole==5.4.1\r\n",
      "QtPy==2.3.0\r\n",
      "requests==2.28.2\r\n",
      "requests-oauthlib==1.3.1\r\n",
      "rfc3339-validator==0.1.4\r\n",
      "rfc3986-validator==0.1.1\r\n",
      "rsa==4.9\r\n",
      "scikit-learn==1.2.2\r\n",
      "scipy==1.10.1\r\n",
      "Send2Trash==1.8.0\r\n",
      "six==1.16.0\r\n",
      "sniffio==1.3.0\r\n",
      "soupsieve==2.4\r\n",
      "stack-data==0.6.2\r\n",
      "tensorboard==2.9.1\r\n",
      "tensorboard-data-server==0.6.1\r\n",
      "tensorboard-plugin-wit==1.8.1\r\n",
      "tensorflow==2.9.1\r\n",
      "tensorflow-estimator==2.9.0\r\n",
      "tensorflow-io-gcs-filesystem==0.31.0\r\n",
      "termcolor==2.2.0\r\n",
      "terminado==0.17.1\r\n",
      "threadpoolctl==3.1.0\r\n",
      "tinycss2==1.2.1\r\n",
      "tornado==6.2\r\n",
      "traitlets==5.9.0\r\n",
      "typing_extensions==4.5.0\r\n",
      "uri-template==1.2.0\r\n",
      "urllib3==1.26.15\r\n",
      "wcwidth==0.2.6\r\n",
      "webcolors==1.12\r\n",
      "webencodings==0.5.1\r\n",
      "websocket-client==1.5.1\r\n",
      "Werkzeug==2.2.3\r\n",
      "widgetsnbextension==4.0.5\r\n",
      "wrapt==1.15.0\r\n",
      "zipp==3.15.0\r\n"
     ]
    }
   ],
   "source": [
    "!pip freeze"
   ]
  },
  {
   "cell_type": "markdown",
   "metadata": {},
   "source": [
    "# PreProcessing"
   ]
  },
  {
   "cell_type": "markdown",
   "metadata": {},
   "source": [
    "## Dependencies"
   ]
  },
  {
   "cell_type": "code",
   "execution_count": 6,
   "metadata": {},
   "outputs": [],
   "source": [
    "import matplotlib as mlp\n",
    "import matplotlib.pyplot as plt\n",
    "import pandas as pd\n",
    "import numpy as np\n",
    "import os\n",
    "\n",
    "import keras\n",
    "from keras.models import Sequential\n",
    "from keras.layers import Dense, Dropout, Flatten, Conv2D, MaxPooling2D\n",
    "\n",
    "from tensorflow.keras.preprocessing.image import ImageDataGenerator, load_img\n",
    "from tensorflow.keras import layers, losses\n",
    "from tensorflow.keras.models import Model\n",
    "\n",
    "import tensorflow as tf\n",
    "\n",
    "from sklearn.metrics import accuracy_score, precision_score, recall_score\n",
    "from sklearn.model_selection import train_test_split\n",
    "from sklearn.model_selection import cross_val_score\n"
   ]
  },
  {
   "cell_type": "markdown",
   "metadata": {},
   "source": [
    "## Convert data into numpy array"
   ]
  },
  {
   "cell_type": "code",
   "execution_count": 7,
   "metadata": {},
   "outputs": [],
   "source": [
    "# import pathlib\n",
    "\n",
    "\n",
    "test_mask = [] \n",
    "test_no_mask = []\n",
    "# I would do this in a fancy os.loop way but I was using google colab and didn't really want to mess with the function too much\n",
    "train_data_mask_dir=\"New_Masks_Dataset/Train/Mask\"\n",
    "train_data_no_mask_dir=\"New_Masks_Dataset/Train/Non_Mask\"\n",
    "val_data_mask_dir = 'New_Masks_Dataset/Validation/Mask'\n",
    "val_data_no_mask_dir = 'New_Masks_Dataset/Validation/Non_Mask'\n",
    "test_data_mask_dir=\"New_Masks_Dataset/Test/Mask\"\n",
    "test_data_no_mask_dir=\"New_Masks_Dataset/Test/Non_Mask\"\n"
   ]
  },
  {
   "cell_type": "code",
   "execution_count": 8,
   "metadata": {},
   "outputs": [],
   "source": [
    "# print(train_imagePaths_mask)"
   ]
  },
  {
   "cell_type": "code",
   "execution_count": 9,
   "metadata": {},
   "outputs": [],
   "source": [
    "# https://stackoverflow.com/questions/30230592/loading-all-images-using-imread-from-a-given-folder\n",
    "# https://www.tutorialkart.com/opencv/python/opencv-python-resize-image/\n",
    "import cv2\n",
    "# from google.colab.patches import cv2_imshow\n",
    "import os\n",
    "\n",
    "IMAGE_HEIGHT  = 100\n",
    "IMAGE_WIDTH = 100\n",
    "NUM_CLASSES = 2\n",
    "\n",
    "\n",
    "input_shape = (IMAGE_WIDTH, IMAGE_HEIGHT)\n",
    "\n",
    "\n",
    "def load_images_from_folder(folder):\n",
    "    images = []\n",
    "    for filename in os.listdir(folder):\n",
    "        img = cv2.imread(os.path.join(folder,filename))\n",
    "        # cv2_imshow(img)\n",
    "        # Has to be like this because of Python Ambiguity\n",
    "        if img is not None:\n",
    "            grayscale = cv2.cvtColor(img, cv2.COLOR_BGR2GRAY)\n",
    "            resized = cv2.resize(grayscale, input_shape)\n",
    "            resized = np.reshape(resized, input_shape[0] * input_shape[1])\n",
    "            images.append(resized)\n",
    "    return images\n"
   ]
  },
  {
   "cell_type": "code",
   "execution_count": 10,
   "metadata": {},
   "outputs": [],
   "source": [
    "# Train\n",
    "train_mask = load_images_from_folder(train_data_mask_dir)\n",
    "train_no_mask = load_images_from_folder(train_data_no_mask_dir)\n",
    "# Val\n",
    "val_mask = load_images_from_folder(val_data_mask_dir)\n",
    "val_no_mask = load_images_from_folder(val_data_no_mask_dir)\n",
    "# Test\n",
    "test_mask = load_images_from_folder(test_data_mask_dir)\n",
    "test_no_mask = (load_images_from_folder(test_data_no_mask_dir))"
   ]
  },
  {
   "cell_type": "code",
   "execution_count": 14,
   "metadata": {},
   "outputs": [],
   "source": [
    "y_train_mask = [1] * len(train_mask)\n",
    "y_train_no_mask = [0] * len(train_no_mask)\n",
    "\n",
    "y_val_mask = [1] * len(val_mask)\n",
    "y_val_no_mask = [0] * len(val_no_mask)\n",
    "\n",
    "y_test_mask = [1] * len(test_mask)\n",
    "y_test_no_mask = [0] * len(test_no_mask)\n"
   ]
  },
  {
   "cell_type": "code",
   "execution_count": 15,
   "metadata": {},
   "outputs": [],
   "source": [
    "df_train = pd.DataFrame({'label': y_train_mask,'mask_data': train_mask})"
   ]
  },
  {
   "cell_type": "code",
   "execution_count": 16,
   "metadata": {},
   "outputs": [
    {
     "name": "stderr",
     "output_type": "stream",
     "text": [
      "/var/folders/21/4ybwj4pj54x1sz2qhfgy1b9m0000gn/T/ipykernel_23789/1233198709.py:1: FutureWarning: The frame.append method is deprecated and will be removed from pandas in a future version. Use pandas.concat instead.\n",
      "  df_train = df_train.append(pd.DataFrame({'label': y_train_no_mask, 'mask_data': train_no_mask}), ignore_index=True)\n"
     ]
    }
   ],
   "source": [
    "df_train = df_train.append(pd.DataFrame({'label': y_train_no_mask, 'mask_data': train_no_mask}), ignore_index=True)"
   ]
  },
  {
   "cell_type": "code",
   "execution_count": 17,
   "metadata": {},
   "outputs": [
    {
     "data": {
      "text/html": [
       "<div>\n",
       "<style scoped>\n",
       "    .dataframe tbody tr th:only-of-type {\n",
       "        vertical-align: middle;\n",
       "    }\n",
       "\n",
       "    .dataframe tbody tr th {\n",
       "        vertical-align: top;\n",
       "    }\n",
       "\n",
       "    .dataframe thead th {\n",
       "        text-align: right;\n",
       "    }\n",
       "</style>\n",
       "<table border=\"1\" class=\"dataframe\">\n",
       "  <thead>\n",
       "    <tr style=\"text-align: right;\">\n",
       "      <th></th>\n",
       "      <th>label</th>\n",
       "      <th>mask_data</th>\n",
       "    </tr>\n",
       "  </thead>\n",
       "  <tbody>\n",
       "    <tr>\n",
       "      <th>47</th>\n",
       "      <td>1</td>\n",
       "      <td>[96, 103, 111, 99, 85, 92, 109, 114, 114, 98, ...</td>\n",
       "    </tr>\n",
       "    <tr>\n",
       "      <th>13</th>\n",
       "      <td>1</td>\n",
       "      <td>[153, 153, 154, 149, 148, 140, 122, 111, 107, ...</td>\n",
       "    </tr>\n",
       "    <tr>\n",
       "      <th>30</th>\n",
       "      <td>1</td>\n",
       "      <td>[176, 168, 195, 152, 151, 146, 146, 132, 119, ...</td>\n",
       "    </tr>\n",
       "    <tr>\n",
       "      <th>158</th>\n",
       "      <td>1</td>\n",
       "      <td>[255, 255, 255, 254, 254, 254, 255, 255, 254, ...</td>\n",
       "    </tr>\n",
       "    <tr>\n",
       "      <th>263</th>\n",
       "      <td>1</td>\n",
       "      <td>[135, 241, 244, 245, 241, 156, 154, 153, 153, ...</td>\n",
       "    </tr>\n",
       "    <tr>\n",
       "      <th>...</th>\n",
       "      <td>...</td>\n",
       "      <td>...</td>\n",
       "    </tr>\n",
       "    <tr>\n",
       "      <th>300</th>\n",
       "      <td>0</td>\n",
       "      <td>[0, 0, 0, 0, 0, 0, 0, 0, 0, 0, 0, 0, 0, 0, 0, ...</td>\n",
       "    </tr>\n",
       "    <tr>\n",
       "      <th>442</th>\n",
       "      <td>0</td>\n",
       "      <td>[250, 254, 254, 254, 253, 253, 254, 252, 253, ...</td>\n",
       "    </tr>\n",
       "    <tr>\n",
       "      <th>393</th>\n",
       "      <td>0</td>\n",
       "      <td>[255, 255, 255, 255, 255, 255, 255, 255, 255, ...</td>\n",
       "    </tr>\n",
       "    <tr>\n",
       "      <th>514</th>\n",
       "      <td>0</td>\n",
       "      <td>[138, 136, 152, 135, 138, 161, 148, 141, 130, ...</td>\n",
       "    </tr>\n",
       "    <tr>\n",
       "      <th>473</th>\n",
       "      <td>0</td>\n",
       "      <td>[205, 205, 203, 201, 203, 199, 204, 193, 106, ...</td>\n",
       "    </tr>\n",
       "  </tbody>\n",
       "</table>\n",
       "<p>599 rows × 2 columns</p>\n",
       "</div>"
      ],
      "text/plain": [
       "     label                                          mask_data\n",
       "47       1  [96, 103, 111, 99, 85, 92, 109, 114, 114, 98, ...\n",
       "13       1  [153, 153, 154, 149, 148, 140, 122, 111, 107, ...\n",
       "30       1  [176, 168, 195, 152, 151, 146, 146, 132, 119, ...\n",
       "158      1  [255, 255, 255, 254, 254, 254, 255, 255, 254, ...\n",
       "263      1  [135, 241, 244, 245, 241, 156, 154, 153, 153, ...\n",
       "..     ...                                                ...\n",
       "300      0  [0, 0, 0, 0, 0, 0, 0, 0, 0, 0, 0, 0, 0, 0, 0, ...\n",
       "442      0  [250, 254, 254, 254, 253, 253, 254, 252, 253, ...\n",
       "393      0  [255, 255, 255, 255, 255, 255, 255, 255, 255, ...\n",
       "514      0  [138, 136, 152, 135, 138, 161, 148, 141, 130, ...\n",
       "473      0  [205, 205, 203, 201, 203, 199, 204, 193, 106, ...\n",
       "\n",
       "[599 rows x 2 columns]"
      ]
     },
     "execution_count": 17,
     "metadata": {},
     "output_type": "execute_result"
    }
   ],
   "source": [
    "df_train = df_train.sample(frac = 1)\n",
    "df_train"
   ]
  },
  {
   "cell_type": "code",
   "execution_count": 18,
   "metadata": {},
   "outputs": [],
   "source": [
    "X_train = df_train.iloc[:, 1:] / 255.0\n",
    "X_train = pd.DataFrame(X_train['mask_data'].tolist())\n",
    "y_train = df_train.iloc[:, :1]\n",
    "\n",
    "# .astype('float32')"
   ]
  },
  {
   "cell_type": "code",
   "execution_count": 19,
   "metadata": {},
   "outputs": [
    {
     "name": "stderr",
     "output_type": "stream",
     "text": [
      "/var/folders/21/4ybwj4pj54x1sz2qhfgy1b9m0000gn/T/ipykernel_23789/3146285510.py:2: FutureWarning: The frame.append method is deprecated and will be removed from pandas in a future version. Use pandas.concat instead.\n",
      "  df_val = df_val.append(pd.DataFrame({'label': y_val_no_mask, 'mask_data': val_no_mask}), ignore_index=True)\n"
     ]
    },
    {
     "data": {
      "text/html": [
       "<div>\n",
       "<style scoped>\n",
       "    .dataframe tbody tr th:only-of-type {\n",
       "        vertical-align: middle;\n",
       "    }\n",
       "\n",
       "    .dataframe tbody tr th {\n",
       "        vertical-align: top;\n",
       "    }\n",
       "\n",
       "    .dataframe thead th {\n",
       "        text-align: right;\n",
       "    }\n",
       "</style>\n",
       "<table border=\"1\" class=\"dataframe\">\n",
       "  <thead>\n",
       "    <tr style=\"text-align: right;\">\n",
       "      <th></th>\n",
       "      <th>label</th>\n",
       "      <th>mask_data</th>\n",
       "    </tr>\n",
       "  </thead>\n",
       "  <tbody>\n",
       "    <tr>\n",
       "      <th>121</th>\n",
       "      <td>1</td>\n",
       "      <td>[124, 121, 120, 123, 121, 161, 131, 131, 154, ...</td>\n",
       "    </tr>\n",
       "    <tr>\n",
       "      <th>51</th>\n",
       "      <td>1</td>\n",
       "      <td>[136, 142, 176, 176, 81, 41, 43, 46, 47, 47, 4...</td>\n",
       "    </tr>\n",
       "    <tr>\n",
       "      <th>202</th>\n",
       "      <td>0</td>\n",
       "      <td>[181, 199, 223, 216, 219, 219, 218, 215, 196, ...</td>\n",
       "    </tr>\n",
       "    <tr>\n",
       "      <th>160</th>\n",
       "      <td>0</td>\n",
       "      <td>[180, 180, 180, 181, 180, 181, 181, 181, 181, ...</td>\n",
       "    </tr>\n",
       "    <tr>\n",
       "      <th>280</th>\n",
       "      <td>0</td>\n",
       "      <td>[153, 156, 156, 155, 155, 157, 152, 155, 155, ...</td>\n",
       "    </tr>\n",
       "    <tr>\n",
       "      <th>...</th>\n",
       "      <td>...</td>\n",
       "      <td>...</td>\n",
       "    </tr>\n",
       "    <tr>\n",
       "      <th>250</th>\n",
       "      <td>0</td>\n",
       "      <td>[129, 126, 122, 110, 95, 93, 90, 123, 114, 125...</td>\n",
       "    </tr>\n",
       "    <tr>\n",
       "      <th>183</th>\n",
       "      <td>0</td>\n",
       "      <td>[184, 194, 183, 178, 189, 186, 182, 193, 189, ...</td>\n",
       "    </tr>\n",
       "    <tr>\n",
       "      <th>115</th>\n",
       "      <td>1</td>\n",
       "      <td>[49, 49, 49, 49, 49, 49, 49, 50, 50, 42, 27, 3...</td>\n",
       "    </tr>\n",
       "    <tr>\n",
       "      <th>171</th>\n",
       "      <td>0</td>\n",
       "      <td>[29, 33, 39, 47, 45, 42, 75, 100, 104, 106, 10...</td>\n",
       "    </tr>\n",
       "    <tr>\n",
       "      <th>300</th>\n",
       "      <td>0</td>\n",
       "      <td>[206, 214, 219, 217, 214, 198, 160, 178, 190, ...</td>\n",
       "    </tr>\n",
       "  </tbody>\n",
       "</table>\n",
       "<p>302 rows × 2 columns</p>\n",
       "</div>"
      ],
      "text/plain": [
       "     label                                          mask_data\n",
       "121      1  [124, 121, 120, 123, 121, 161, 131, 131, 154, ...\n",
       "51       1  [136, 142, 176, 176, 81, 41, 43, 46, 47, 47, 4...\n",
       "202      0  [181, 199, 223, 216, 219, 219, 218, 215, 196, ...\n",
       "160      0  [180, 180, 180, 181, 180, 181, 181, 181, 181, ...\n",
       "280      0  [153, 156, 156, 155, 155, 157, 152, 155, 155, ...\n",
       "..     ...                                                ...\n",
       "250      0  [129, 126, 122, 110, 95, 93, 90, 123, 114, 125...\n",
       "183      0  [184, 194, 183, 178, 189, 186, 182, 193, 189, ...\n",
       "115      1  [49, 49, 49, 49, 49, 49, 49, 50, 50, 42, 27, 3...\n",
       "171      0  [29, 33, 39, 47, 45, 42, 75, 100, 104, 106, 10...\n",
       "300      0  [206, 214, 219, 217, 214, 198, 160, 178, 190, ...\n",
       "\n",
       "[302 rows x 2 columns]"
      ]
     },
     "execution_count": 19,
     "metadata": {},
     "output_type": "execute_result"
    }
   ],
   "source": [
    "df_val = pd.DataFrame({'label': y_val_mask,'mask_data': val_mask})\n",
    "df_val = df_val.append(pd.DataFrame({'label': y_val_no_mask, 'mask_data': val_no_mask}), ignore_index=True)\n",
    "\n",
    "df_val = df_val.sample(frac = 1)\n",
    "df_val"
   ]
  },
  {
   "cell_type": "code",
   "execution_count": 20,
   "metadata": {},
   "outputs": [],
   "source": [
    "X_val = df_val.iloc[:, 1:] / 255.0\n",
    "X_val = pd.DataFrame(X_val['mask_data'].tolist())\n",
    "y_val = df_val.iloc[:,:1]\n"
   ]
  },
  {
   "cell_type": "code",
   "execution_count": 21,
   "metadata": {},
   "outputs": [
    {
     "name": "stderr",
     "output_type": "stream",
     "text": [
      "/var/folders/21/4ybwj4pj54x1sz2qhfgy1b9m0000gn/T/ipykernel_23789/4284791088.py:2: FutureWarning: The frame.append method is deprecated and will be removed from pandas in a future version. Use pandas.concat instead.\n",
      "  df_test = df_test.append(pd.DataFrame({'label': y_test_no_mask, 'mask_data': test_no_mask}), ignore_index=True)\n"
     ]
    },
    {
     "data": {
      "text/html": [
       "<div>\n",
       "<style scoped>\n",
       "    .dataframe tbody tr th:only-of-type {\n",
       "        vertical-align: middle;\n",
       "    }\n",
       "\n",
       "    .dataframe tbody tr th {\n",
       "        vertical-align: top;\n",
       "    }\n",
       "\n",
       "    .dataframe thead th {\n",
       "        text-align: right;\n",
       "    }\n",
       "</style>\n",
       "<table border=\"1\" class=\"dataframe\">\n",
       "  <thead>\n",
       "    <tr style=\"text-align: right;\">\n",
       "      <th></th>\n",
       "      <th>label</th>\n",
       "      <th>mask_data</th>\n",
       "    </tr>\n",
       "  </thead>\n",
       "  <tbody>\n",
       "    <tr>\n",
       "      <th>5</th>\n",
       "      <td>1</td>\n",
       "      <td>[78, 64, 66, 63, 59, 54, 76, 86, 88, 89, 92, 9...</td>\n",
       "    </tr>\n",
       "    <tr>\n",
       "      <th>45</th>\n",
       "      <td>1</td>\n",
       "      <td>[230, 230, 230, 231, 231, 231, 232, 230, 232, ...</td>\n",
       "    </tr>\n",
       "    <tr>\n",
       "      <th>70</th>\n",
       "      <td>0</td>\n",
       "      <td>[91, 91, 89, 96, 135, 128, 114, 119, 102, 97, ...</td>\n",
       "    </tr>\n",
       "    <tr>\n",
       "      <th>8</th>\n",
       "      <td>1</td>\n",
       "      <td>[57, 58, 61, 65, 67, 69, 69, 70, 68, 68, 68, 6...</td>\n",
       "    </tr>\n",
       "    <tr>\n",
       "      <th>69</th>\n",
       "      <td>0</td>\n",
       "      <td>[85, 69, 74, 68, 46, 38, 48, 21, 19, 19, 19, 1...</td>\n",
       "    </tr>\n",
       "    <tr>\n",
       "      <th>...</th>\n",
       "      <td>...</td>\n",
       "      <td>...</td>\n",
       "    </tr>\n",
       "    <tr>\n",
       "      <th>32</th>\n",
       "      <td>1</td>\n",
       "      <td>[155, 173, 116, 165, 169, 164, 163, 154, 215, ...</td>\n",
       "    </tr>\n",
       "    <tr>\n",
       "      <th>43</th>\n",
       "      <td>1</td>\n",
       "      <td>[113, 115, 120, 121, 126, 128, 133, 135, 138, ...</td>\n",
       "    </tr>\n",
       "    <tr>\n",
       "      <th>90</th>\n",
       "      <td>0</td>\n",
       "      <td>[219, 219, 219, 219, 219, 218, 218, 217, 218, ...</td>\n",
       "    </tr>\n",
       "    <tr>\n",
       "      <th>62</th>\n",
       "      <td>0</td>\n",
       "      <td>[233, 230, 231, 232, 233, 227, 227, 233, 228, ...</td>\n",
       "    </tr>\n",
       "    <tr>\n",
       "      <th>42</th>\n",
       "      <td>1</td>\n",
       "      <td>[205, 194, 196, 190, 182, 164, 137, 125, 151, ...</td>\n",
       "    </tr>\n",
       "  </tbody>\n",
       "</table>\n",
       "<p>99 rows × 2 columns</p>\n",
       "</div>"
      ],
      "text/plain": [
       "    label                                          mask_data\n",
       "5       1  [78, 64, 66, 63, 59, 54, 76, 86, 88, 89, 92, 9...\n",
       "45      1  [230, 230, 230, 231, 231, 231, 232, 230, 232, ...\n",
       "70      0  [91, 91, 89, 96, 135, 128, 114, 119, 102, 97, ...\n",
       "8       1  [57, 58, 61, 65, 67, 69, 69, 70, 68, 68, 68, 6...\n",
       "69      0  [85, 69, 74, 68, 46, 38, 48, 21, 19, 19, 19, 1...\n",
       "..    ...                                                ...\n",
       "32      1  [155, 173, 116, 165, 169, 164, 163, 154, 215, ...\n",
       "43      1  [113, 115, 120, 121, 126, 128, 133, 135, 138, ...\n",
       "90      0  [219, 219, 219, 219, 219, 218, 218, 217, 218, ...\n",
       "62      0  [233, 230, 231, 232, 233, 227, 227, 233, 228, ...\n",
       "42      1  [205, 194, 196, 190, 182, 164, 137, 125, 151, ...\n",
       "\n",
       "[99 rows x 2 columns]"
      ]
     },
     "execution_count": 21,
     "metadata": {},
     "output_type": "execute_result"
    }
   ],
   "source": [
    "df_test = pd.DataFrame({'label': y_test_mask,'mask_data': test_mask})\n",
    "df_test = df_test.append(pd.DataFrame({'label': y_test_no_mask, 'mask_data': test_no_mask}), ignore_index=True)\n",
    "\n",
    "df_test = df_test.sample(frac = 1)\n",
    "df_test\n"
   ]
  },
  {
   "cell_type": "code",
   "execution_count": 22,
   "metadata": {},
   "outputs": [],
   "source": [
    "X_test = df_test.iloc[:, 1:] / 255.0\n",
    "X_test = pd.DataFrame(X_test['mask_data'].tolist())\n",
    "y_test = df_test.iloc[:, :1]\n"
   ]
  },
  {
   "cell_type": "code",
   "execution_count": 23,
   "metadata": {},
   "outputs": [],
   "source": [
    "x_train = X_train.values.reshape(-1,100,100)\n",
    "x_val = X_val.values.reshape(-1,100,100)\n",
    "x_test = X_test.values.reshape(-1,100,100)"
   ]
  },
  {
   "cell_type": "code",
   "execution_count": 24,
   "metadata": {},
   "outputs": [],
   "source": [
    "batch_size = 128\n",
    "epochs = 15\n",
    "# input image dimensions\n",
    "input_shape = (100, 100, 1)\n",
    "\n",
    "\n",
    "y_train = keras.utils.to_categorical(y_train, NUM_CLASSES)\n",
    "y_val = keras.utils.to_categorical(y_val, NUM_CLASSES)\n",
    "y_test = keras.utils.to_categorical(y_test, NUM_CLASSES)\n",
    "\n"
   ]
  },
  {
   "cell_type": "code",
   "execution_count": 25,
   "metadata": {},
   "outputs": [
    {
     "name": "stdout",
     "output_type": "stream",
     "text": [
      "(599, 100, 100)\n",
      "(302, 100, 100)\n",
      "(99, 100, 100)\n"
     ]
    }
   ],
   "source": [
    "print(x_train.shape)\n",
    "print(x_val.shape)\n",
    "print(x_test.shape)"
   ]
  },
  {
   "cell_type": "markdown",
   "metadata": {},
   "source": [
    "# Running Model"
   ]
  },
  {
   "cell_type": "markdown",
   "metadata": {},
   "source": [
    "## KNN (K_Nearest_Neighbor Classifier)"
   ]
  },
  {
   "cell_type": "code",
   "execution_count": 26,
   "metadata": {},
   "outputs": [
    {
     "name": "stdout",
     "output_type": "stream",
     "text": [
      "Fitting 5 folds for each of 58 candidates, totalling 290 fits\n",
      "Best Parameters: {'n_neighbors': 27, 'weights': 'distance'}\n",
      "Accuracy Score: 0.7612885154061624\n"
     ]
    }
   ],
   "source": [
    "from sklearn.neighbors import KNeighborsClassifier\n",
    "from sklearn import metrics\n",
    "from sklearn.model_selection import GridSearchCV\n",
    "k_range = list(range(1, 30))\n",
    "param_grid = {'n_neighbors': k_range, \n",
    "              'weights': ['uniform', 'distance']}\n",
    "knn = KNeighborsClassifier()\n",
    "grid_search = GridSearchCV(knn, param_grid, cv=5, verbose = 1)\n",
    "grid_search.fit(X_train, y_train)\n",
    "y_pred = grid_search.predict(X_test)\n",
    "metrics.f1_score(y_test, y_pred, average='weighted')\n",
    "print(\"Best Parameters:\", grid_search.best_params_)\n",
    "print(\"Accuracy Score:\", grid_search.best_score_)"
   ]
  },
  {
   "cell_type": "markdown",
   "metadata": {},
   "source": [
    "## CNN (Convolutional neural network)"
   ]
  },
  {
   "cell_type": "code",
   "execution_count": 27,
   "metadata": {},
   "outputs": [
    {
     "name": "stdout",
     "output_type": "stream",
     "text": [
      "Model: \"sequential\"\n",
      "_________________________________________________________________\n",
      " Layer (type)                Output Shape              Param #   \n",
      "=================================================================\n",
      " conv2d (Conv2D)             (None, 98, 98, 32)        320       \n",
      "                                                                 \n",
      " max_pooling2d (MaxPooling2D  (None, 49, 49, 32)       0         \n",
      " )                                                               \n",
      "                                                                 \n",
      " conv2d_1 (Conv2D)           (None, 47, 47, 64)        18496     \n",
      "                                                                 \n",
      " max_pooling2d_1 (MaxPooling  (None, 23, 23, 64)       0         \n",
      " 2D)                                                             \n",
      "                                                                 \n",
      " flatten (Flatten)           (None, 33856)             0         \n",
      "                                                                 \n",
      " dropout (Dropout)           (None, 33856)             0         \n",
      "                                                                 \n",
      " dense (Dense)               (None, 2)                 67714     \n",
      "                                                                 \n",
      "=================================================================\n",
      "Total params: 86,530\n"
     ]
    },
    {
     "name": "stderr",
     "output_type": "stream",
     "text": [
      "2023-03-19 08:50:56.868460: I tensorflow/core/platform/cpu_feature_guard.cc:193] This TensorFlow binary is optimized with oneAPI Deep Neural Network Library (oneDNN) to use the following CPU instructions in performance-critical operations:  AVX2 FMA\n",
      "To enable them in other operations, rebuild TensorFlow with the appropriate compiler flags.\n"
     ]
    },
    {
     "name": "stdout",
     "output_type": "stream",
     "text": [
      "Trainable params: 86,530\n",
      "Non-trainable params: 0\n",
      "_________________________________________________________________\n"
     ]
    }
   ],
   "source": [
    "\n",
    "# The parameters I chose here were also from a project I did earlier, I'll link it here\n",
    "model = keras.Sequential(\n",
    "    [\n",
    "        keras.Input(shape=input_shape),\n",
    "        layers.Conv2D(32, kernel_size=(3, 3), activation=\"relu\"),\n",
    "        layers.MaxPooling2D(pool_size=(2, 2)),\n",
    "        layers.Conv2D(64, kernel_size=(3, 3), activation=\"relu\"),\n",
    "        layers.MaxPooling2D(pool_size=(2, 2)),\n",
    "        layers.Flatten(),\n",
    "        layers.Dropout(0.5),\n",
    "        layers.Dense(NUM_CLASSES, activation=\"softmax\"),\n",
    "    ]\n",
    ")\n",
    "\n",
    "model.summary()\n"
   ]
  },
  {
   "cell_type": "code",
   "execution_count": 28,
   "metadata": {},
   "outputs": [
    {
     "name": "stdout",
     "output_type": "stream",
     "text": [
      "Epoch 1/15\n",
      "5/5 [==============================] - 9s 2s/step - loss: 0.8087 - accuracy: 0.5058 - val_loss: 0.7663 - val_accuracy: 0.5066\n",
      "Epoch 2/15\n",
      "5/5 [==============================] - 7s 1s/step - loss: 0.6818 - accuracy: 0.5476 - val_loss: 0.6564 - val_accuracy: 0.5331\n",
      "Epoch 3/15\n",
      "5/5 [==============================] - 6s 1s/step - loss: 0.5968 - accuracy: 0.7663 - val_loss: 0.6016 - val_accuracy: 0.7682\n",
      "Epoch 4/15\n",
      "5/5 [==============================] - 6s 1s/step - loss: 0.5046 - accuracy: 0.8164 - val_loss: 0.4921 - val_accuracy: 0.8245\n",
      "Epoch 5/15\n",
      "5/5 [==============================] - 6s 1s/step - loss: 0.4170 - accuracy: 0.8197 - val_loss: 0.4241 - val_accuracy: 0.8146\n",
      "Epoch 6/15\n",
      "5/5 [==============================] - 7s 1s/step - loss: 0.3715 - accuracy: 0.8280 - val_loss: 0.3945 - val_accuracy: 0.8543\n",
      "Epoch 7/15\n",
      "5/5 [==============================] - 7s 1s/step - loss: 0.3565 - accuracy: 0.8381 - val_loss: 0.3798 - val_accuracy: 0.8642\n",
      "Epoch 8/15\n",
      "5/5 [==============================] - 17s 4s/step - loss: 0.3379 - accuracy: 0.8497 - val_loss: 0.4574 - val_accuracy: 0.7649\n",
      "Epoch 9/15\n",
      "5/5 [==============================] - 13s 2s/step - loss: 0.3390 - accuracy: 0.8414 - val_loss: 0.3827 - val_accuracy: 0.8576\n",
      "Epoch 10/15\n",
      "5/5 [==============================] - 10s 2s/step - loss: 0.3090 - accuracy: 0.8548 - val_loss: 0.3916 - val_accuracy: 0.8510\n",
      "Epoch 11/15\n",
      "5/5 [==============================] - 8s 2s/step - loss: 0.2917 - accuracy: 0.8815 - val_loss: 0.4427 - val_accuracy: 0.7748\n",
      "Epoch 12/15\n",
      "5/5 [==============================] - 11s 2s/step - loss: 0.2820 - accuracy: 0.8748 - val_loss: 0.4445 - val_accuracy: 0.8278\n",
      "Epoch 13/15\n",
      "5/5 [==============================] - 8s 2s/step - loss: 0.2872 - accuracy: 0.8731 - val_loss: 0.3998 - val_accuracy: 0.8278\n",
      "Epoch 14/15\n",
      "5/5 [==============================] - 8s 2s/step - loss: 0.2713 - accuracy: 0.8798 - val_loss: 0.4217 - val_accuracy: 0.8113\n",
      "Epoch 15/15\n",
      "5/5 [==============================] - 8s 2s/step - loss: 0.2401 - accuracy: 0.9115 - val_loss: 0.4128 - val_accuracy: 0.8278\n"
     ]
    }
   ],
   "source": [
    "from tensorflow.keras.callbacks import EarlyStopping, ModelCheckpoint\n",
    "\n",
    "model.compile(loss=\"categorical_crossentropy\", optimizer=\"adam\", metrics=[\"accuracy\"])\n",
    "\n",
    "callbacks = [ModelCheckpoint(filepath='best_model.h5', monitor='val_loss', save_best_only=True),\n",
    "             EarlyStopping(monitor='val_loss', patience=100)]\n",
    "\n",
    "\n",
    "history = model.fit(x_train, y_train, batch_size=batch_size, epochs=epochs, validation_data=(x_val,y_val))"
   ]
  },
  {
   "cell_type": "code",
   "execution_count": 30,
   "metadata": {},
   "outputs": [],
   "source": [
    "model.save('best_model.h5')"
   ]
  },
  {
   "cell_type": "code",
   "execution_count": 34,
   "metadata": {},
   "outputs": [],
   "source": [
    "model = keras.models.load_model('./best_model.h5')"
   ]
  },
  {
   "cell_type": "code",
   "execution_count": 35,
   "metadata": {},
   "outputs": [
    {
     "name": "stdout",
     "output_type": "stream",
     "text": [
      "4/4 [==============================] - 0s 63ms/step - loss: 0.4127 - accuracy: 0.7879\n"
     ]
    },
    {
     "data": {
      "text/plain": [
       "[0.4126650393009186, 0.7878788113594055]"
      ]
     },
     "execution_count": 35,
     "metadata": {},
     "output_type": "execute_result"
    }
   ],
   "source": [
    "model.evaluate(x_test, y_test)"
   ]
  },
  {
   "cell_type": "code",
   "execution_count": 36,
   "metadata": {},
   "outputs": [
    {
     "name": "stdout",
     "output_type": "stream",
     "text": [
      "Test loss: 0.4126650393009186\n",
      "Test accuracy: 0.7878788113594055\n"
     ]
    }
   ],
   "source": [
    "score = model.evaluate(x_test, y_test, verbose=0)\n",
    "print(\"Test loss:\", score[0])\n",
    "print(\"Test accuracy:\", score[1])"
   ]
  },
  {
   "cell_type": "code",
   "execution_count": 37,
   "metadata": {},
   "outputs": [
    {
     "name": "stdout",
     "output_type": "stream",
     "text": [
      "4/4 [==============================] - 0s 52ms/step\n",
      "              precision    recall  f1-score   support\n",
      "\n",
      "           0       0.75      0.88      0.81        50\n",
      "           1       0.85      0.69      0.76        49\n",
      "\n",
      "    accuracy                           0.79        99\n",
      "   macro avg       0.80      0.79      0.79        99\n",
      "weighted avg       0.80      0.79      0.79        99\n",
      "\n",
      "[[44  6]\n",
      " [15 34]]\n"
     ]
    }
   ],
   "source": [
    "from sklearn.metrics import classification_report, confusion_matrix\n",
    "\n",
    "# Use the trained CNN model to predict on the test data\n",
    "y_pred = model.predict(x_test)\n",
    "\n",
    "# Convert the predicted probabilities to class labels\n",
    "y_pred_labels = np.argmax(y_pred, axis=1)\n",
    "\n",
    "# Convert the true labels to class labels\n",
    "y_true_labels = np.argmax(y_test, axis=1)\n",
    "\n",
    "# Print the classification report and confusion matrix\n",
    "print(classification_report(y_true_labels, y_pred_labels))\n",
    "print(confusion_matrix(y_true_labels, y_pred_labels))"
   ]
  },
  {
   "cell_type": "code",
   "execution_count": null,
   "metadata": {},
   "outputs": [],
   "source": []
  },
  {
   "cell_type": "code",
   "execution_count": null,
   "metadata": {},
   "outputs": [],
   "source": [
    "from flask import Flask\n",
    "\n",
    "app = Flask(__name__)\n",
    "\n",
    "@app.route(\"/\")\n",
    "def hello_world():\n",
    "    return \"<p>Hello, World!</p>\""
   ]
  },
  {
   "cell_type": "code",
   "execution_count": null,
   "metadata": {},
   "outputs": [],
   "source": []
  }
 ],
 "metadata": {
  "kernelspec": {
   "display_name": "Python 3 (ipykernel)",
   "language": "python",
   "name": "python3"
  },
  "language_info": {
   "codemirror_mode": {
    "name": "ipython",
    "version": 3
   },
   "file_extension": ".py",
   "mimetype": "text/x-python",
   "name": "python",
   "nbconvert_exporter": "python",
   "pygments_lexer": "ipython3",
   "version": "3.8.0"
  },
  "vscode": {
   "interpreter": {
    "hash": "c13209e22e8d7786781c444ec5dd3ab2bdb4894b22799155f2d9a5b3d32d4296"
   }
  }
 },
 "nbformat": 4,
 "nbformat_minor": 2
}
